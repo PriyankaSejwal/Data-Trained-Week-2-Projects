{
 "cells": [
  {
   "cell_type": "code",
   "execution_count": 1,
   "metadata": {},
   "outputs": [],
   "source": [
    "import pandas as pd\n",
    "import numpy as np\n",
    "import seaborn as sns\n",
    "import matplotlib.pyplot as plt"
   ]
  },
  {
   "cell_type": "code",
   "execution_count": 2,
   "metadata": {},
   "outputs": [],
   "source": [
    "corona=pd.read_csv('corona.csv')"
   ]
  },
  {
   "cell_type": "code",
   "execution_count": 3,
   "metadata": {},
   "outputs": [
    {
     "data": {
      "text/html": [
       "<div>\n",
       "<style scoped>\n",
       "    .dataframe tbody tr th:only-of-type {\n",
       "        vertical-align: middle;\n",
       "    }\n",
       "\n",
       "    .dataframe tbody tr th {\n",
       "        vertical-align: top;\n",
       "    }\n",
       "\n",
       "    .dataframe thead th {\n",
       "        text-align: right;\n",
       "    }\n",
       "</style>\n",
       "<table border=\"1\" class=\"dataframe\">\n",
       "  <thead>\n",
       "    <tr style=\"text-align: right;\">\n",
       "      <th></th>\n",
       "      <th>Date</th>\n",
       "      <th>Country</th>\n",
       "      <th>Confirmed</th>\n",
       "      <th>Recovered</th>\n",
       "      <th>Deaths</th>\n",
       "    </tr>\n",
       "  </thead>\n",
       "  <tbody>\n",
       "    <tr>\n",
       "      <th>0</th>\n",
       "      <td>2020-01-22</td>\n",
       "      <td>Afghanistan</td>\n",
       "      <td>0</td>\n",
       "      <td>0</td>\n",
       "      <td>0</td>\n",
       "    </tr>\n",
       "    <tr>\n",
       "      <th>1</th>\n",
       "      <td>2020-01-22</td>\n",
       "      <td>Albania</td>\n",
       "      <td>0</td>\n",
       "      <td>0</td>\n",
       "      <td>0</td>\n",
       "    </tr>\n",
       "    <tr>\n",
       "      <th>2</th>\n",
       "      <td>2020-01-22</td>\n",
       "      <td>Algeria</td>\n",
       "      <td>0</td>\n",
       "      <td>0</td>\n",
       "      <td>0</td>\n",
       "    </tr>\n",
       "    <tr>\n",
       "      <th>3</th>\n",
       "      <td>2020-01-22</td>\n",
       "      <td>Andorra</td>\n",
       "      <td>0</td>\n",
       "      <td>0</td>\n",
       "      <td>0</td>\n",
       "    </tr>\n",
       "    <tr>\n",
       "      <th>4</th>\n",
       "      <td>2020-01-22</td>\n",
       "      <td>Angola</td>\n",
       "      <td>0</td>\n",
       "      <td>0</td>\n",
       "      <td>0</td>\n",
       "    </tr>\n",
       "    <tr>\n",
       "      <th>...</th>\n",
       "      <td>...</td>\n",
       "      <td>...</td>\n",
       "      <td>...</td>\n",
       "      <td>...</td>\n",
       "      <td>...</td>\n",
       "    </tr>\n",
       "    <tr>\n",
       "      <th>23683</th>\n",
       "      <td>2020-05-26</td>\n",
       "      <td>West Bank and Gaza</td>\n",
       "      <td>429</td>\n",
       "      <td>365</td>\n",
       "      <td>3</td>\n",
       "    </tr>\n",
       "    <tr>\n",
       "      <th>23684</th>\n",
       "      <td>2020-05-26</td>\n",
       "      <td>Western Sahara</td>\n",
       "      <td>9</td>\n",
       "      <td>6</td>\n",
       "      <td>1</td>\n",
       "    </tr>\n",
       "    <tr>\n",
       "      <th>23685</th>\n",
       "      <td>2020-05-26</td>\n",
       "      <td>Yemen</td>\n",
       "      <td>249</td>\n",
       "      <td>10</td>\n",
       "      <td>49</td>\n",
       "    </tr>\n",
       "    <tr>\n",
       "      <th>23686</th>\n",
       "      <td>2020-05-26</td>\n",
       "      <td>Zambia</td>\n",
       "      <td>920</td>\n",
       "      <td>336</td>\n",
       "      <td>7</td>\n",
       "    </tr>\n",
       "    <tr>\n",
       "      <th>23687</th>\n",
       "      <td>2020-05-26</td>\n",
       "      <td>Zimbabwe</td>\n",
       "      <td>56</td>\n",
       "      <td>25</td>\n",
       "      <td>4</td>\n",
       "    </tr>\n",
       "  </tbody>\n",
       "</table>\n",
       "<p>23688 rows × 5 columns</p>\n",
       "</div>"
      ],
      "text/plain": [
       "             Date             Country  Confirmed  Recovered  Deaths\n",
       "0      2020-01-22         Afghanistan          0          0       0\n",
       "1      2020-01-22             Albania          0          0       0\n",
       "2      2020-01-22             Algeria          0          0       0\n",
       "3      2020-01-22             Andorra          0          0       0\n",
       "4      2020-01-22              Angola          0          0       0\n",
       "...           ...                 ...        ...        ...     ...\n",
       "23683  2020-05-26  West Bank and Gaza        429        365       3\n",
       "23684  2020-05-26      Western Sahara          9          6       1\n",
       "23685  2020-05-26               Yemen        249         10      49\n",
       "23686  2020-05-26              Zambia        920        336       7\n",
       "23687  2020-05-26            Zimbabwe         56         25       4\n",
       "\n",
       "[23688 rows x 5 columns]"
      ]
     },
     "execution_count": 3,
     "metadata": {},
     "output_type": "execute_result"
    }
   ],
   "source": [
    "corona"
   ]
  },
  {
   "cell_type": "code",
   "execution_count": 4,
   "metadata": {},
   "outputs": [
    {
     "data": {
      "text/plain": [
       "array(['Afghanistan', 'Albania', 'Algeria', 'Andorra', 'Angola',\n",
       "       'Antigua and Barbuda', 'Argentina', 'Armenia', 'Australia',\n",
       "       'Austria', 'Azerbaijan', 'Bahamas', 'Bahrain', 'Bangladesh',\n",
       "       'Barbados', 'Belarus', 'Belgium', 'Belize', 'Benin', 'Bhutan',\n",
       "       'Bolivia', 'Bosnia and Herzegovina', 'Botswana', 'Brazil',\n",
       "       'Brunei', 'Bulgaria', 'Burkina Faso', 'Burma', 'Burundi',\n",
       "       'Cabo Verde', 'Cambodia', 'Cameroon', 'Canada',\n",
       "       'Central African Republic', 'Chad', 'Chile', 'China', 'Colombia',\n",
       "       'Comoros', 'Congo (Brazzaville)', 'Congo (Kinshasa)', 'Costa Rica',\n",
       "       \"Cote d'Ivoire\", 'Croatia', 'Cuba', 'Cyprus', 'Czechia', 'Denmark',\n",
       "       'Diamond Princess', 'Djibouti', 'Dominica', 'Dominican Republic',\n",
       "       'Ecuador', 'Egypt', 'El Salvador', 'Equatorial Guinea', 'Eritrea',\n",
       "       'Estonia', 'Eswatini', 'Ethiopia', 'Fiji', 'Finland', 'France',\n",
       "       'Gabon', 'Gambia', 'Georgia', 'Germany', 'Ghana', 'Greece',\n",
       "       'Grenada', 'Guatemala', 'Guinea', 'Guinea-Bissau', 'Guyana',\n",
       "       'Haiti', 'Holy See', 'Honduras', 'Hungary', 'Iceland', 'India',\n",
       "       'Indonesia', 'Iran', 'Iraq', 'Ireland', 'Israel', 'Italy',\n",
       "       'Jamaica', 'Japan', 'Jordan', 'Kazakhstan', 'Kenya',\n",
       "       'Korea, South', 'Kosovo', 'Kuwait', 'Kyrgyzstan', 'Laos', 'Latvia',\n",
       "       'Lebanon', 'Lesotho', 'Liberia', 'Libya', 'Liechtenstein',\n",
       "       'Lithuania', 'Luxembourg', 'MS Zaandam', 'Madagascar', 'Malawi',\n",
       "       'Malaysia', 'Maldives', 'Mali', 'Malta', 'Mauritania', 'Mauritius',\n",
       "       'Mexico', 'Moldova', 'Monaco', 'Mongolia', 'Montenegro', 'Morocco',\n",
       "       'Mozambique', 'Namibia', 'Nepal', 'Netherlands', 'New Zealand',\n",
       "       'Nicaragua', 'Niger', 'Nigeria', 'North Macedonia', 'Norway',\n",
       "       'Oman', 'Pakistan', 'Panama', 'Papua New Guinea', 'Paraguay',\n",
       "       'Peru', 'Philippines', 'Poland', 'Portugal', 'Qatar', 'Romania',\n",
       "       'Russia', 'Rwanda', 'Saint Kitts and Nevis', 'Saint Lucia',\n",
       "       'Saint Vincent and the Grenadines', 'San Marino',\n",
       "       'Sao Tome and Principe', 'Saudi Arabia', 'Senegal', 'Serbia',\n",
       "       'Seychelles', 'Sierra Leone', 'Singapore', 'Slovakia', 'Slovenia',\n",
       "       'Somalia', 'South Africa', 'South Sudan', 'Spain', 'Sri Lanka',\n",
       "       'Sudan', 'Suriname', 'Sweden', 'Switzerland', 'Syria', 'Taiwan*',\n",
       "       'Tajikistan', 'Tanzania', 'Thailand', 'Timor-Leste', 'Togo',\n",
       "       'Trinidad and Tobago', 'Tunisia', 'Turkey', 'US', 'Uganda',\n",
       "       'Ukraine', 'United Arab Emirates', 'United Kingdom', 'Uruguay',\n",
       "       'Uzbekistan', 'Venezuela', 'Vietnam', 'West Bank and Gaza',\n",
       "       'Western Sahara', 'Yemen', 'Zambia', 'Zimbabwe'], dtype=object)"
      ]
     },
     "execution_count": 4,
     "metadata": {},
     "output_type": "execute_result"
    }
   ],
   "source": [
    "corona['Country'].unique()"
   ]
  },
  {
   "cell_type": "code",
   "execution_count": 5,
   "metadata": {},
   "outputs": [],
   "source": [
    "data=corona.groupby('Country').sum()"
   ]
  },
  {
   "cell_type": "code",
   "execution_count": 6,
   "metadata": {},
   "outputs": [
    {
     "data": {
      "text/html": [
       "<div>\n",
       "<style scoped>\n",
       "    .dataframe tbody tr th:only-of-type {\n",
       "        vertical-align: middle;\n",
       "    }\n",
       "\n",
       "    .dataframe tbody tr th {\n",
       "        vertical-align: top;\n",
       "    }\n",
       "\n",
       "    .dataframe thead th {\n",
       "        text-align: right;\n",
       "    }\n",
       "</style>\n",
       "<table border=\"1\" class=\"dataframe\">\n",
       "  <thead>\n",
       "    <tr style=\"text-align: right;\">\n",
       "      <th></th>\n",
       "      <th>Confirmed</th>\n",
       "      <th>Recovered</th>\n",
       "      <th>Deaths</th>\n",
       "    </tr>\n",
       "    <tr>\n",
       "      <th>Country</th>\n",
       "      <th></th>\n",
       "      <th></th>\n",
       "      <th></th>\n",
       "    </tr>\n",
       "  </thead>\n",
       "  <tbody>\n",
       "    <tr>\n",
       "      <th>Afghanistan</th>\n",
       "      <td>185236</td>\n",
       "      <td>20845</td>\n",
       "      <td>4669</td>\n",
       "    </tr>\n",
       "    <tr>\n",
       "      <th>Albania</th>\n",
       "      <td>41253</td>\n",
       "      <td>25688</td>\n",
       "      <td>1629</td>\n",
       "    </tr>\n",
       "    <tr>\n",
       "      <th>Algeria</th>\n",
       "      <td>240070</td>\n",
       "      <td>107345</td>\n",
       "      <td>23232</td>\n",
       "    </tr>\n",
       "    <tr>\n",
       "      <th>Andorra</th>\n",
       "      <td>41573</td>\n",
       "      <td>20751</td>\n",
       "      <td>2219</td>\n",
       "    </tr>\n",
       "    <tr>\n",
       "      <th>Angola</th>\n",
       "      <td>1892</td>\n",
       "      <td>506</td>\n",
       "      <td>131</td>\n",
       "    </tr>\n",
       "    <tr>\n",
       "      <th>...</th>\n",
       "      <td>...</td>\n",
       "      <td>...</td>\n",
       "      <td>...</td>\n",
       "    </tr>\n",
       "    <tr>\n",
       "      <th>West Bank and Gaza</th>\n",
       "      <td>19971</td>\n",
       "      <td>8798</td>\n",
       "      <td>113</td>\n",
       "    </tr>\n",
       "    <tr>\n",
       "      <th>Western Sahara</th>\n",
       "      <td>307</td>\n",
       "      <td>186</td>\n",
       "      <td>1</td>\n",
       "    </tr>\n",
       "    <tr>\n",
       "      <th>Yemen</th>\n",
       "      <td>2696</td>\n",
       "      <td>92</td>\n",
       "      <td>460</td>\n",
       "    </tr>\n",
       "    <tr>\n",
       "      <th>Zambia</th>\n",
       "      <td>15285</td>\n",
       "      <td>5281</td>\n",
       "      <td>215</td>\n",
       "    </tr>\n",
       "    <tr>\n",
       "      <th>Zimbabwe</th>\n",
       "      <td>1760</td>\n",
       "      <td>373</td>\n",
       "      <td>199</td>\n",
       "    </tr>\n",
       "  </tbody>\n",
       "</table>\n",
       "<p>188 rows × 3 columns</p>\n",
       "</div>"
      ],
      "text/plain": [
       "                    Confirmed  Recovered  Deaths\n",
       "Country                                         \n",
       "Afghanistan            185236      20845    4669\n",
       "Albania                 41253      25688    1629\n",
       "Algeria                240070     107345   23232\n",
       "Andorra                 41573      20751    2219\n",
       "Angola                   1892        506     131\n",
       "...                       ...        ...     ...\n",
       "West Bank and Gaza      19971       8798     113\n",
       "Western Sahara            307        186       1\n",
       "Yemen                    2696         92     460\n",
       "Zambia                  15285       5281     215\n",
       "Zimbabwe                 1760        373     199\n",
       "\n",
       "[188 rows x 3 columns]"
      ]
     },
     "execution_count": 6,
     "metadata": {},
     "output_type": "execute_result"
    }
   ],
   "source": [
    "data"
   ]
  },
  {
   "cell_type": "code",
   "execution_count": 7,
   "metadata": {},
   "outputs": [
    {
     "data": {
      "text/html": [
       "<div>\n",
       "<style scoped>\n",
       "    .dataframe tbody tr th:only-of-type {\n",
       "        vertical-align: middle;\n",
       "    }\n",
       "\n",
       "    .dataframe tbody tr th {\n",
       "        vertical-align: top;\n",
       "    }\n",
       "\n",
       "    .dataframe thead th {\n",
       "        text-align: right;\n",
       "    }\n",
       "</style>\n",
       "<table border=\"1\" class=\"dataframe\">\n",
       "  <thead>\n",
       "    <tr style=\"text-align: right;\">\n",
       "      <th></th>\n",
       "      <th>Confirmed</th>\n",
       "      <th>Recovered</th>\n",
       "      <th>Deaths</th>\n",
       "    </tr>\n",
       "    <tr>\n",
       "      <th>Country</th>\n",
       "      <th></th>\n",
       "      <th></th>\n",
       "      <th></th>\n",
       "    </tr>\n",
       "  </thead>\n",
       "  <tbody>\n",
       "    <tr>\n",
       "      <th>Afghanistan</th>\n",
       "      <td>185236</td>\n",
       "      <td>20845</td>\n",
       "      <td>4669</td>\n",
       "    </tr>\n",
       "    <tr>\n",
       "      <th>Albania</th>\n",
       "      <td>41253</td>\n",
       "      <td>25688</td>\n",
       "      <td>1629</td>\n",
       "    </tr>\n",
       "    <tr>\n",
       "      <th>Algeria</th>\n",
       "      <td>240070</td>\n",
       "      <td>107345</td>\n",
       "      <td>23232</td>\n",
       "    </tr>\n",
       "    <tr>\n",
       "      <th>Andorra</th>\n",
       "      <td>41573</td>\n",
       "      <td>20751</td>\n",
       "      <td>2219</td>\n",
       "    </tr>\n",
       "    <tr>\n",
       "      <th>Angola</th>\n",
       "      <td>1892</td>\n",
       "      <td>506</td>\n",
       "      <td>131</td>\n",
       "    </tr>\n",
       "    <tr>\n",
       "      <th>Antigua and Barbuda</th>\n",
       "      <td>1328</td>\n",
       "      <td>591</td>\n",
       "      <td>140</td>\n",
       "    </tr>\n",
       "    <tr>\n",
       "      <th>Argentina</th>\n",
       "      <td>282542</td>\n",
       "      <td>81516</td>\n",
       "      <td>12607</td>\n",
       "    </tr>\n",
       "    <tr>\n",
       "      <th>Armenia</th>\n",
       "      <td>149180</td>\n",
       "      <td>59320</td>\n",
       "      <td>1962</td>\n",
       "    </tr>\n",
       "    <tr>\n",
       "      <th>Australia</th>\n",
       "      <td>406086</td>\n",
       "      <td>256485</td>\n",
       "      <td>4563</td>\n",
       "    </tr>\n",
       "    <tr>\n",
       "      <th>Austria</th>\n",
       "      <td>919252</td>\n",
       "      <td>614913</td>\n",
       "      <td>28446</td>\n",
       "    </tr>\n",
       "    <tr>\n",
       "      <th>Azerbaijan</th>\n",
       "      <td>113785</td>\n",
       "      <td>66155</td>\n",
       "      <td>1401</td>\n",
       "    </tr>\n",
       "    <tr>\n",
       "      <th>Bahamas</th>\n",
       "      <td>4103</td>\n",
       "      <td>1253</td>\n",
       "      <td>521</td>\n",
       "    </tr>\n",
       "    <tr>\n",
       "      <th>Bahrain</th>\n",
       "      <td>214726</td>\n",
       "      <td>97733</td>\n",
       "      <td>499</td>\n",
       "    </tr>\n",
       "    <tr>\n",
       "      <th>Bangladesh</th>\n",
       "      <td>588922</td>\n",
       "      <td>96714</td>\n",
       "      <td>10003</td>\n",
       "    </tr>\n",
       "    <tr>\n",
       "      <th>Barbados</th>\n",
       "      <td>4563</td>\n",
       "      <td>2090</td>\n",
       "      <td>304</td>\n",
       "    </tr>\n",
       "    <tr>\n",
       "      <th>Belarus</th>\n",
       "      <td>835575</td>\n",
       "      <td>234388</td>\n",
       "      <td>5037</td>\n",
       "    </tr>\n",
       "    <tr>\n",
       "      <th>Belgium</th>\n",
       "      <td>2480956</td>\n",
       "      <td>587424</td>\n",
       "      <td>362702</td>\n",
       "    </tr>\n",
       "    <tr>\n",
       "      <th>Belize</th>\n",
       "      <td>897</td>\n",
       "      <td>466</td>\n",
       "      <td>98</td>\n",
       "    </tr>\n",
       "    <tr>\n",
       "      <th>Benin</th>\n",
       "      <td>6712</td>\n",
       "      <td>2245</td>\n",
       "      <td>83</td>\n",
       "    </tr>\n",
       "    <tr>\n",
       "      <th>Bhutan</th>\n",
       "      <td>608</td>\n",
       "      <td>209</td>\n",
       "      <td>0</td>\n",
       "    </tr>\n",
       "  </tbody>\n",
       "</table>\n",
       "</div>"
      ],
      "text/plain": [
       "                     Confirmed  Recovered  Deaths\n",
       "Country                                          \n",
       "Afghanistan             185236      20845    4669\n",
       "Albania                  41253      25688    1629\n",
       "Algeria                 240070     107345   23232\n",
       "Andorra                  41573      20751    2219\n",
       "Angola                    1892        506     131\n",
       "Antigua and Barbuda       1328        591     140\n",
       "Argentina               282542      81516   12607\n",
       "Armenia                 149180      59320    1962\n",
       "Australia               406086     256485    4563\n",
       "Austria                 919252     614913   28446\n",
       "Azerbaijan              113785      66155    1401\n",
       "Bahamas                   4103       1253     521\n",
       "Bahrain                 214726      97733     499\n",
       "Bangladesh              588922      96714   10003\n",
       "Barbados                  4563       2090     304\n",
       "Belarus                 835575     234388    5037\n",
       "Belgium                2480956     587424  362702\n",
       "Belize                     897        466      98\n",
       "Benin                     6712       2245      83\n",
       "Bhutan                     608        209       0"
      ]
     },
     "execution_count": 7,
     "metadata": {},
     "output_type": "execute_result"
    }
   ],
   "source": [
    "data.head(20)"
   ]
  },
  {
   "cell_type": "code",
   "execution_count": 8,
   "metadata": {},
   "outputs": [],
   "source": [
    "corona_data=data.reset_index()"
   ]
  },
  {
   "cell_type": "code",
   "execution_count": 9,
   "metadata": {},
   "outputs": [
    {
     "data": {
      "text/html": [
       "<div>\n",
       "<style scoped>\n",
       "    .dataframe tbody tr th:only-of-type {\n",
       "        vertical-align: middle;\n",
       "    }\n",
       "\n",
       "    .dataframe tbody tr th {\n",
       "        vertical-align: top;\n",
       "    }\n",
       "\n",
       "    .dataframe thead th {\n",
       "        text-align: right;\n",
       "    }\n",
       "</style>\n",
       "<table border=\"1\" class=\"dataframe\">\n",
       "  <thead>\n",
       "    <tr style=\"text-align: right;\">\n",
       "      <th></th>\n",
       "      <th>Country</th>\n",
       "      <th>Confirmed</th>\n",
       "      <th>Recovered</th>\n",
       "      <th>Deaths</th>\n",
       "    </tr>\n",
       "  </thead>\n",
       "  <tbody>\n",
       "    <tr>\n",
       "      <th>0</th>\n",
       "      <td>Afghanistan</td>\n",
       "      <td>185236</td>\n",
       "      <td>20845</td>\n",
       "      <td>4669</td>\n",
       "    </tr>\n",
       "    <tr>\n",
       "      <th>1</th>\n",
       "      <td>Albania</td>\n",
       "      <td>41253</td>\n",
       "      <td>25688</td>\n",
       "      <td>1629</td>\n",
       "    </tr>\n",
       "    <tr>\n",
       "      <th>2</th>\n",
       "      <td>Algeria</td>\n",
       "      <td>240070</td>\n",
       "      <td>107345</td>\n",
       "      <td>23232</td>\n",
       "    </tr>\n",
       "    <tr>\n",
       "      <th>3</th>\n",
       "      <td>Andorra</td>\n",
       "      <td>41573</td>\n",
       "      <td>20751</td>\n",
       "      <td>2219</td>\n",
       "    </tr>\n",
       "    <tr>\n",
       "      <th>4</th>\n",
       "      <td>Angola</td>\n",
       "      <td>1892</td>\n",
       "      <td>506</td>\n",
       "      <td>131</td>\n",
       "    </tr>\n",
       "    <tr>\n",
       "      <th>...</th>\n",
       "      <td>...</td>\n",
       "      <td>...</td>\n",
       "      <td>...</td>\n",
       "      <td>...</td>\n",
       "    </tr>\n",
       "    <tr>\n",
       "      <th>183</th>\n",
       "      <td>West Bank and Gaza</td>\n",
       "      <td>19971</td>\n",
       "      <td>8798</td>\n",
       "      <td>113</td>\n",
       "    </tr>\n",
       "    <tr>\n",
       "      <th>184</th>\n",
       "      <td>Western Sahara</td>\n",
       "      <td>307</td>\n",
       "      <td>186</td>\n",
       "      <td>1</td>\n",
       "    </tr>\n",
       "    <tr>\n",
       "      <th>185</th>\n",
       "      <td>Yemen</td>\n",
       "      <td>2696</td>\n",
       "      <td>92</td>\n",
       "      <td>460</td>\n",
       "    </tr>\n",
       "    <tr>\n",
       "      <th>186</th>\n",
       "      <td>Zambia</td>\n",
       "      <td>15285</td>\n",
       "      <td>5281</td>\n",
       "      <td>215</td>\n",
       "    </tr>\n",
       "    <tr>\n",
       "      <th>187</th>\n",
       "      <td>Zimbabwe</td>\n",
       "      <td>1760</td>\n",
       "      <td>373</td>\n",
       "      <td>199</td>\n",
       "    </tr>\n",
       "  </tbody>\n",
       "</table>\n",
       "<p>188 rows × 4 columns</p>\n",
       "</div>"
      ],
      "text/plain": [
       "                Country  Confirmed  Recovered  Deaths\n",
       "0           Afghanistan     185236      20845    4669\n",
       "1               Albania      41253      25688    1629\n",
       "2               Algeria     240070     107345   23232\n",
       "3               Andorra      41573      20751    2219\n",
       "4                Angola       1892        506     131\n",
       "..                  ...        ...        ...     ...\n",
       "183  West Bank and Gaza      19971       8798     113\n",
       "184      Western Sahara        307        186       1\n",
       "185               Yemen       2696         92     460\n",
       "186              Zambia      15285       5281     215\n",
       "187            Zimbabwe       1760        373     199\n",
       "\n",
       "[188 rows x 4 columns]"
      ]
     },
     "execution_count": 9,
     "metadata": {},
     "output_type": "execute_result"
    }
   ],
   "source": [
    "corona_data"
   ]
  },
  {
   "cell_type": "code",
   "execution_count": 10,
   "metadata": {},
   "outputs": [
    {
     "data": {
      "text/plain": [
       "(array([  0,   1,   2,   3,   4,   5,   6,   7,   8,   9,  10,  11,  12,\n",
       "         13,  14,  15,  16,  17,  18,  19,  20,  21,  22,  23,  24,  25,\n",
       "         26,  27,  28,  29,  30,  31,  32,  33,  34,  35,  36,  37,  38,\n",
       "         39,  40,  41,  42,  43,  44,  45,  46,  47,  48,  49,  50,  51,\n",
       "         52,  53,  54,  55,  56,  57,  58,  59,  60,  61,  62,  63,  64,\n",
       "         65,  66,  67,  68,  69,  70,  71,  72,  73,  74,  75,  76,  77,\n",
       "         78,  79,  80,  81,  82,  83,  84,  85,  86,  87,  88,  89,  90,\n",
       "         91,  92,  93,  94,  95,  96,  97,  98,  99, 100, 101, 102, 103,\n",
       "        104, 105, 106, 107, 108, 109, 110, 111, 112, 113, 114, 115, 116,\n",
       "        117, 118, 119, 120, 121, 122, 123, 124, 125, 126, 127, 128, 129,\n",
       "        130, 131, 132, 133, 134, 135, 136, 137, 138, 139, 140, 141, 142,\n",
       "        143, 144, 145, 146, 147, 148, 149, 150, 151, 152, 153, 154, 155,\n",
       "        156, 157, 158, 159, 160, 161, 162, 163, 164, 165, 166, 167, 168,\n",
       "        169, 170, 171, 172, 173, 174, 175, 176, 177, 178, 179, 180, 181,\n",
       "        182, 183, 184, 185, 186, 187]),\n",
       " <a list of 188 Text major ticklabel objects>)"
      ]
     },
     "execution_count": 10,
     "metadata": {},
     "output_type": "execute_result"
    },
    {
     "data": {
      "image/png": "[encoded data removed]",
      "text/plain": [
       "<Figure size 2880x1080 with 1 Axes>"
      ]
     },
     "metadata": {
      "needs_background": "light"
     },
     "output_type": "display_data"
    }
   ],
   "source": [
    "plt.figure(figsize=(40,15))\n",
    "sns.barplot(x='Country',y='Confirmed',data=corona_data)\n",
    "plt.xticks(rotation=90)"
   ]
  },
  {
   "cell_type": "code",
   "execution_count": 11,
   "metadata": {},
   "outputs": [
    {
     "data": {
      "text/plain": [
       "Country      0\n",
       "Confirmed    0\n",
       "Recovered    0\n",
       "Deaths       0\n",
       "dtype: int64"
      ]
     },
     "execution_count": 11,
     "metadata": {},
     "output_type": "execute_result"
    }
   ],
   "source": [
    "corona_data.isnull().sum()"
   ]
  },
  {
   "cell_type": "code",
   "execution_count": 12,
   "metadata": {},
   "outputs": [
    {
     "data": {
      "text/html": [
       "<div>\n",
       "<style scoped>\n",
       "    .dataframe tbody tr th:only-of-type {\n",
       "        vertical-align: middle;\n",
       "    }\n",
       "\n",
       "    .dataframe tbody tr th {\n",
       "        vertical-align: top;\n",
       "    }\n",
       "\n",
       "    .dataframe thead th {\n",
       "        text-align: right;\n",
       "    }\n",
       "</style>\n",
       "<table border=\"1\" class=\"dataframe\">\n",
       "  <thead>\n",
       "    <tr style=\"text-align: right;\">\n",
       "      <th></th>\n",
       "      <th>Confirmed</th>\n",
       "      <th>Recovered</th>\n",
       "      <th>Deaths</th>\n",
       "    </tr>\n",
       "  </thead>\n",
       "  <tbody>\n",
       "    <tr>\n",
       "      <th>count</th>\n",
       "      <td>1.880000e+02</td>\n",
       "      <td>1.880000e+02</td>\n",
       "      <td>1.880000e+02</td>\n",
       "    </tr>\n",
       "    <tr>\n",
       "      <th>mean</th>\n",
       "      <td>1.004140e+06</td>\n",
       "      <td>3.253070e+05</td>\n",
       "      <td>6.639381e+04</td>\n",
       "    </tr>\n",
       "    <tr>\n",
       "      <th>std</th>\n",
       "      <td>4.567753e+06</td>\n",
       "      <td>1.121162e+06</td>\n",
       "      <td>3.088152e+05</td>\n",
       "    </tr>\n",
       "    <tr>\n",
       "      <th>min</th>\n",
       "      <td>1.900000e+01</td>\n",
       "      <td>0.000000e+00</td>\n",
       "      <td>0.000000e+00</td>\n",
       "    </tr>\n",
       "    <tr>\n",
       "      <th>25%</th>\n",
       "      <td>7.594250e+03</td>\n",
       "      <td>2.169500e+03</td>\n",
       "      <td>1.582500e+02</td>\n",
       "    </tr>\n",
       "    <tr>\n",
       "      <th>50%</th>\n",
       "      <td>4.642850e+04</td>\n",
       "      <td>1.776400e+04</td>\n",
       "      <td>8.435000e+02</td>\n",
       "    </tr>\n",
       "    <tr>\n",
       "      <th>75%</th>\n",
       "      <td>3.891915e+05</td>\n",
       "      <td>1.076598e+05</td>\n",
       "      <td>8.738750e+03</td>\n",
       "    </tr>\n",
       "    <tr>\n",
       "      <th>max</th>\n",
       "      <td>5.709877e+07</td>\n",
       "      <td>8.428678e+06</td>\n",
       "      <td>3.221969e+06</td>\n",
       "    </tr>\n",
       "  </tbody>\n",
       "</table>\n",
       "</div>"
      ],
      "text/plain": [
       "          Confirmed     Recovered        Deaths\n",
       "count  1.880000e+02  1.880000e+02  1.880000e+02\n",
       "mean   1.004140e+06  3.253070e+05  6.639381e+04\n",
       "std    4.567753e+06  1.121162e+06  3.088152e+05\n",
       "min    1.900000e+01  0.000000e+00  0.000000e+00\n",
       "25%    7.594250e+03  2.169500e+03  1.582500e+02\n",
       "50%    4.642850e+04  1.776400e+04  8.435000e+02\n",
       "75%    3.891915e+05  1.076598e+05  8.738750e+03\n",
       "max    5.709877e+07  8.428678e+06  3.221969e+06"
      ]
     },
     "execution_count": 12,
     "metadata": {},
     "output_type": "execute_result"
    }
   ],
   "source": [
    "corona_data.describe()"
   ]
  },
  {
   "cell_type": "code",
   "execution_count": 13,
   "metadata": {},
   "outputs": [
    {
     "data": {
      "text/plain": [
       "Confirmed    10.303690\n",
       "Recovered     5.019751\n",
       "Deaths        7.399787\n",
       "dtype: float64"
      ]
     },
     "execution_count": 13,
     "metadata": {},
     "output_type": "execute_result"
    }
   ],
   "source": [
    "corona_data.skew()"
   ]
  },
  {
   "cell_type": "code",
   "execution_count": 14,
   "metadata": {},
   "outputs": [],
   "source": [
    "#label Encoder for country"
   ]
  },
  {
   "cell_type": "code",
   "execution_count": 15,
   "metadata": {},
   "outputs": [],
   "source": [
    "from sklearn.preprocessing import LabelEncoder"
   ]
  },
  {
   "cell_type": "code",
   "execution_count": 16,
   "metadata": {},
   "outputs": [],
   "source": [
    "le=LabelEncoder()\n",
    "import warnings\n",
    "warnings.filterwarnings('ignore')"
   ]
  },
  {
   "cell_type": "code",
   "execution_count": 17,
   "metadata": {},
   "outputs": [],
   "source": [
    "corona_data['Country']=le.fit_transform(corona_data['Country'].values.reshape(-1,1))"
   ]
  },
  {
   "cell_type": "code",
   "execution_count": 18,
   "metadata": {},
   "outputs": [
    {
     "data": {
      "text/html": [
       "<div>\n",
       "<style scoped>\n",
       "    .dataframe tbody tr th:only-of-type {\n",
       "        vertical-align: middle;\n",
       "    }\n",
       "\n",
       "    .dataframe tbody tr th {\n",
       "        vertical-align: top;\n",
       "    }\n",
       "\n",
       "    .dataframe thead th {\n",
       "        text-align: right;\n",
       "    }\n",
       "</style>\n",
       "<table border=\"1\" class=\"dataframe\">\n",
       "  <thead>\n",
       "    <tr style=\"text-align: right;\">\n",
       "      <th></th>\n",
       "      <th>Country</th>\n",
       "      <th>Confirmed</th>\n",
       "      <th>Recovered</th>\n",
       "      <th>Deaths</th>\n",
       "    </tr>\n",
       "  </thead>\n",
       "  <tbody>\n",
       "    <tr>\n",
       "      <th>0</th>\n",
       "      <td>0</td>\n",
       "      <td>185236</td>\n",
       "      <td>20845</td>\n",
       "      <td>4669</td>\n",
       "    </tr>\n",
       "    <tr>\n",
       "      <th>1</th>\n",
       "      <td>1</td>\n",
       "      <td>41253</td>\n",
       "      <td>25688</td>\n",
       "      <td>1629</td>\n",
       "    </tr>\n",
       "    <tr>\n",
       "      <th>2</th>\n",
       "      <td>2</td>\n",
       "      <td>240070</td>\n",
       "      <td>107345</td>\n",
       "      <td>23232</td>\n",
       "    </tr>\n",
       "    <tr>\n",
       "      <th>3</th>\n",
       "      <td>3</td>\n",
       "      <td>41573</td>\n",
       "      <td>20751</td>\n",
       "      <td>2219</td>\n",
       "    </tr>\n",
       "    <tr>\n",
       "      <th>4</th>\n",
       "      <td>4</td>\n",
       "      <td>1892</td>\n",
       "      <td>506</td>\n",
       "      <td>131</td>\n",
       "    </tr>\n",
       "    <tr>\n",
       "      <th>...</th>\n",
       "      <td>...</td>\n",
       "      <td>...</td>\n",
       "      <td>...</td>\n",
       "      <td>...</td>\n",
       "    </tr>\n",
       "    <tr>\n",
       "      <th>183</th>\n",
       "      <td>183</td>\n",
       "      <td>19971</td>\n",
       "      <td>8798</td>\n",
       "      <td>113</td>\n",
       "    </tr>\n",
       "    <tr>\n",
       "      <th>184</th>\n",
       "      <td>184</td>\n",
       "      <td>307</td>\n",
       "      <td>186</td>\n",
       "      <td>1</td>\n",
       "    </tr>\n",
       "    <tr>\n",
       "      <th>185</th>\n",
       "      <td>185</td>\n",
       "      <td>2696</td>\n",
       "      <td>92</td>\n",
       "      <td>460</td>\n",
       "    </tr>\n",
       "    <tr>\n",
       "      <th>186</th>\n",
       "      <td>186</td>\n",
       "      <td>15285</td>\n",
       "      <td>5281</td>\n",
       "      <td>215</td>\n",
       "    </tr>\n",
       "    <tr>\n",
       "      <th>187</th>\n",
       "      <td>187</td>\n",
       "      <td>1760</td>\n",
       "      <td>373</td>\n",
       "      <td>199</td>\n",
       "    </tr>\n",
       "  </tbody>\n",
       "</table>\n",
       "<p>188 rows × 4 columns</p>\n",
       "</div>"
      ],
      "text/plain": [
       "     Country  Confirmed  Recovered  Deaths\n",
       "0          0     185236      20845    4669\n",
       "1          1      41253      25688    1629\n",
       "2          2     240070     107345   23232\n",
       "3          3      41573      20751    2219\n",
       "4          4       1892        506     131\n",
       "..       ...        ...        ...     ...\n",
       "183      183      19971       8798     113\n",
       "184      184        307        186       1\n",
       "185      185       2696         92     460\n",
       "186      186      15285       5281     215\n",
       "187      187       1760        373     199\n",
       "\n",
       "[188 rows x 4 columns]"
      ]
     },
     "execution_count": 18,
     "metadata": {},
     "output_type": "execute_result"
    }
   ],
   "source": [
    "corona_data"
   ]
  },
  {
   "cell_type": "code",
   "execution_count": 19,
   "metadata": {},
   "outputs": [
    {
     "data": {
      "text/plain": [
       "<matplotlib.axes._subplots.AxesSubplot at 0x264aa692850>"
      ]
     },
     "execution_count": 19,
     "metadata": {},
     "output_type": "execute_result"
    },
    {
     "data": {
      "image/png": "[encoded data removed]",
      "text/plain": [
       "<Figure size 432x288 with 1 Axes>"
      ]
     },
     "metadata": {
      "needs_background": "light"
     },
     "output_type": "display_data"
    }
   ],
   "source": [
    "sns.distplot(corona_data['Confirmed'])"
   ]
  },
  {
   "cell_type": "code",
   "execution_count": 20,
   "metadata": {},
   "outputs": [
    {
     "data": {
      "text/plain": [
       "<matplotlib.axes._subplots.AxesSubplot at 0x264aa77c0d0>"
      ]
     },
     "execution_count": 20,
     "metadata": {},
     "output_type": "execute_result"
    },
    {
     "data": {
      "image/png": "[encoded data removed]",
      "text/plain": [
       "<Figure size 432x288 with 1 Axes>"
      ]
     },
     "metadata": {
      "needs_background": "light"
     },
     "output_type": "display_data"
    }
   ],
   "source": [
    "sns.distplot(corona_data['Recovered'])"
   ]
  },
  {
   "cell_type": "code",
   "execution_count": 21,
   "metadata": {},
   "outputs": [
    {
     "data": {
      "text/plain": [
       "<matplotlib.axes._subplots.AxesSubplot at 0x264aa84e160>"
      ]
     },
     "execution_count": 21,
     "metadata": {},
     "output_type": "execute_result"
    },
    {
     "data": {
      "image/png": "[encoded data removed]",
      "text/plain": [
       "<Figure size 432x288 with 1 Axes>"
      ]
     },
     "metadata": {
      "needs_background": "light"
     },
     "output_type": "display_data"
    }
   ],
   "source": [
    "sns.distplot(corona_data['Deaths'])"
   ]
  },
  {
   "cell_type": "code",
   "execution_count": 22,
   "metadata": {},
   "outputs": [],
   "source": [
    "#Data is highly skewed"
   ]
  },
  {
   "cell_type": "code",
   "execution_count": 23,
   "metadata": {},
   "outputs": [],
   "source": [
    "corona_data['Confirmed']=np.log1p(corona_data['Confirmed'])"
   ]
  },
  {
   "cell_type": "code",
   "execution_count": 24,
   "metadata": {},
   "outputs": [
    {
     "data": {
      "text/plain": [
       "<matplotlib.axes._subplots.AxesSubplot at 0x264a9c8d460>"
      ]
     },
     "execution_count": 24,
     "metadata": {},
     "output_type": "execute_result"
    },
    {
     "data": {
      "image/png": "[encoded data removed]",
      "text/plain": [
       "<Figure size 432x288 with 1 Axes>"
      ]
     },
     "metadata": {
      "needs_background": "light"
     },
     "output_type": "display_data"
    }
   ],
   "source": [
    "sns.distplot(corona_data['Confirmed'])"
   ]
  },
  {
   "cell_type": "code",
   "execution_count": 25,
   "metadata": {},
   "outputs": [],
   "source": [
    "corona_data['Recovered']=np.log1p(corona_data['Recovered'])"
   ]
  },
  {
   "cell_type": "code",
   "execution_count": 26,
   "metadata": {},
   "outputs": [
    {
     "data": {
      "text/plain": [
       "<matplotlib.axes._subplots.AxesSubplot at 0x264a9084550>"
      ]
     },
     "execution_count": 26,
     "metadata": {},
     "output_type": "execute_result"
    },
    {
     "data": {
      "image/png": "[encoded data removed]",
      "text/plain": [
       "<Figure size 432x288 with 1 Axes>"
      ]
     },
     "metadata": {
      "needs_background": "light"
     },
     "output_type": "display_data"
    }
   ],
   "source": [
    "sns.distplot(corona_data['Recovered'])"
   ]
  },
  {
   "cell_type": "code",
   "execution_count": 27,
   "metadata": {},
   "outputs": [],
   "source": [
    "corona_data['Deaths']=np.log1p(corona_data['Deaths'])"
   ]
  },
  {
   "cell_type": "code",
   "execution_count": 28,
   "metadata": {},
   "outputs": [
    {
     "data": {
      "text/plain": [
       "<matplotlib.axes._subplots.AxesSubplot at 0x264a90f8af0>"
      ]
     },
     "execution_count": 28,
     "metadata": {},
     "output_type": "execute_result"
    },
    {
     "data": {
      "image/png": "[encoded data removed]",
      "text/plain": [
       "<Figure size 432x288 with 1 Axes>"
      ]
     },
     "metadata": {
      "needs_background": "light"
     },
     "output_type": "display_data"
    }
   ],
   "source": [
    "sns.distplot(corona_data['Deaths'])"
   ]
  },
  {
   "cell_type": "code",
   "execution_count": 29,
   "metadata": {},
   "outputs": [
    {
     "data": {
      "text/plain": [
       "<matplotlib.axes._subplots.AxesSubplot at 0x264a9143370>"
      ]
     },
     "execution_count": 29,
     "metadata": {},
     "output_type": "execute_result"
    },
    {
     "data": {
      "image/png": "[encoded data removed]",
      "text/plain": [
       "<Figure size 432x288 with 1 Axes>"
      ]
     },
     "metadata": {
      "needs_background": "light"
     },
     "output_type": "display_data"
    }
   ],
   "source": [
    "sns.boxplot(corona_data['Recovered'])"
   ]
  },
  {
   "cell_type": "code",
   "execution_count": 30,
   "metadata": {},
   "outputs": [
    {
     "data": {
      "text/plain": [
       "<matplotlib.axes._subplots.AxesSubplot at 0x264a91a84c0>"
      ]
     },
     "execution_count": 30,
     "metadata": {},
     "output_type": "execute_result"
    },
    {
     "data": {
      "image/png": "[encoded data removed]",
      "text/plain": [
       "<Figure size 432x288 with 1 Axes>"
      ]
     },
     "metadata": {
      "needs_background": "light"
     },
     "output_type": "display_data"
    }
   ],
   "source": [
    "sns.boxplot(corona_data['Confirmed'])"
   ]
  },
  {
   "cell_type": "code",
   "execution_count": 31,
   "metadata": {},
   "outputs": [
    {
     "data": {
      "text/plain": [
       "<matplotlib.axes._subplots.AxesSubplot at 0x264a921d640>"
      ]
     },
     "execution_count": 31,
     "metadata": {},
     "output_type": "execute_result"
    },
    {
     "data": {
      "image/png": "[encoded data removed]",
      "text/plain": [
       "<Figure size 432x288 with 1 Axes>"
      ]
     },
     "metadata": {
      "needs_background": "light"
     },
     "output_type": "display_data"
    }
   ],
   "source": [
    "sns.boxplot(corona_data['Deaths'])"
   ]
  },
  {
   "cell_type": "code",
   "execution_count": 32,
   "metadata": {},
   "outputs": [],
   "source": [
    "#a few outliers can be observed in the Confirmed and Recovered columns"
   ]
  },
  {
   "cell_type": "code",
   "execution_count": 33,
   "metadata": {},
   "outputs": [],
   "source": [
    "from scipy.stats import zscore"
   ]
  },
  {
   "cell_type": "code",
   "execution_count": 34,
   "metadata": {},
   "outputs": [],
   "source": [
    "z=np.abs(zscore(corona_data))"
   ]
  },
  {
   "cell_type": "code",
   "execution_count": 38,
   "metadata": {},
   "outputs": [],
   "source": [
    "corona_new=corona_data[(z<3).all(axis=1)]"
   ]
  },
  {
   "cell_type": "code",
   "execution_count": 39,
   "metadata": {},
   "outputs": [
    {
     "data": {
      "text/html": [
       "<div>\n",
       "<style scoped>\n",
       "    .dataframe tbody tr th:only-of-type {\n",
       "        vertical-align: middle;\n",
       "    }\n",
       "\n",
       "    .dataframe tbody tr th {\n",
       "        vertical-align: top;\n",
       "    }\n",
       "\n",
       "    .dataframe thead th {\n",
       "        text-align: right;\n",
       "    }\n",
       "</style>\n",
       "<table border=\"1\" class=\"dataframe\">\n",
       "  <thead>\n",
       "    <tr style=\"text-align: right;\">\n",
       "      <th></th>\n",
       "      <th>Country</th>\n",
       "      <th>Confirmed</th>\n",
       "      <th>Recovered</th>\n",
       "      <th>Deaths</th>\n",
       "    </tr>\n",
       "  </thead>\n",
       "  <tbody>\n",
       "    <tr>\n",
       "      <th>0</th>\n",
       "      <td>0</td>\n",
       "      <td>12.129391</td>\n",
       "      <td>9.944917</td>\n",
       "      <td>8.448914</td>\n",
       "    </tr>\n",
       "    <tr>\n",
       "      <th>1</th>\n",
       "      <td>1</td>\n",
       "      <td>10.627503</td>\n",
       "      <td>10.153818</td>\n",
       "      <td>7.396335</td>\n",
       "    </tr>\n",
       "    <tr>\n",
       "      <th>2</th>\n",
       "      <td>2</td>\n",
       "      <td>12.388690</td>\n",
       "      <td>11.583813</td>\n",
       "      <td>10.053329</td>\n",
       "    </tr>\n",
       "    <tr>\n",
       "      <th>3</th>\n",
       "      <td>3</td>\n",
       "      <td>10.635230</td>\n",
       "      <td>9.940398</td>\n",
       "      <td>7.705262</td>\n",
       "    </tr>\n",
       "    <tr>\n",
       "      <th>4</th>\n",
       "      <td>4</td>\n",
       "      <td>7.545918</td>\n",
       "      <td>6.228511</td>\n",
       "      <td>4.882802</td>\n",
       "    </tr>\n",
       "    <tr>\n",
       "      <th>...</th>\n",
       "      <td>...</td>\n",
       "      <td>...</td>\n",
       "      <td>...</td>\n",
       "      <td>...</td>\n",
       "    </tr>\n",
       "    <tr>\n",
       "      <th>183</th>\n",
       "      <td>183</td>\n",
       "      <td>9.902087</td>\n",
       "      <td>9.082393</td>\n",
       "      <td>4.736198</td>\n",
       "    </tr>\n",
       "    <tr>\n",
       "      <th>184</th>\n",
       "      <td>184</td>\n",
       "      <td>5.730100</td>\n",
       "      <td>5.231109</td>\n",
       "      <td>0.693147</td>\n",
       "    </tr>\n",
       "    <tr>\n",
       "      <th>185</th>\n",
       "      <td>185</td>\n",
       "      <td>7.899895</td>\n",
       "      <td>4.532599</td>\n",
       "      <td>6.133398</td>\n",
       "    </tr>\n",
       "    <tr>\n",
       "      <th>186</th>\n",
       "      <td>186</td>\n",
       "      <td>9.634693</td>\n",
       "      <td>8.572060</td>\n",
       "      <td>5.375278</td>\n",
       "    </tr>\n",
       "    <tr>\n",
       "      <th>187</th>\n",
       "      <td>187</td>\n",
       "      <td>7.473637</td>\n",
       "      <td>5.924256</td>\n",
       "      <td>5.298317</td>\n",
       "    </tr>\n",
       "  </tbody>\n",
       "</table>\n",
       "<p>186 rows × 4 columns</p>\n",
       "</div>"
      ],
      "text/plain": [
       "     Country  Confirmed  Recovered     Deaths\n",
       "0          0  12.129391   9.944917   8.448914\n",
       "1          1  10.627503  10.153818   7.396335\n",
       "2          2  12.388690  11.583813  10.053329\n",
       "3          3  10.635230   9.940398   7.705262\n",
       "4          4   7.545918   6.228511   4.882802\n",
       "..       ...        ...        ...        ...\n",
       "183      183   9.902087   9.082393   4.736198\n",
       "184      184   5.730100   5.231109   0.693147\n",
       "185      185   7.899895   4.532599   6.133398\n",
       "186      186   9.634693   8.572060   5.375278\n",
       "187      187   7.473637   5.924256   5.298317\n",
       "\n",
       "[186 rows x 4 columns]"
      ]
     },
     "execution_count": 39,
     "metadata": {},
     "output_type": "execute_result"
    }
   ],
   "source": [
    "corona_new"
   ]
  },
  {
   "cell_type": "code",
   "execution_count": 41,
   "metadata": {},
   "outputs": [
    {
     "data": {
      "text/plain": [
       "<matplotlib.axes._subplots.AxesSubplot at 0x264a92c30a0>"
      ]
     },
     "execution_count": 41,
     "metadata": {},
     "output_type": "execute_result"
    },
    {
     "data": {
      "image/png": "[encoded data removed]",
      "text/plain": [
       "<Figure size 432x288 with 1 Axes>"
      ]
     },
     "metadata": {
      "needs_background": "light"
     },
     "output_type": "display_data"
    }
   ],
   "source": [
    "sns.boxplot(corona_new['Confirmed'])"
   ]
  },
  {
   "cell_type": "code",
   "execution_count": 42,
   "metadata": {},
   "outputs": [],
   "source": [
    "#Outliers removed"
   ]
  },
  {
   "cell_type": "code",
   "execution_count": 43,
   "metadata": {},
   "outputs": [],
   "source": [
    "#Splitting data to x and y"
   ]
  },
  {
   "cell_type": "code",
   "execution_count": 48,
   "metadata": {},
   "outputs": [],
   "source": [
    "x=corona_new.drop(['Deaths'],axis=1)"
   ]
  },
  {
   "cell_type": "code",
   "execution_count": 49,
   "metadata": {},
   "outputs": [
    {
     "data": {
      "text/html": [
       "<div>\n",
       "<style scoped>\n",
       "    .dataframe tbody tr th:only-of-type {\n",
       "        vertical-align: middle;\n",
       "    }\n",
       "\n",
       "    .dataframe tbody tr th {\n",
       "        vertical-align: top;\n",
       "    }\n",
       "\n",
       "    .dataframe thead th {\n",
       "        text-align: right;\n",
       "    }\n",
       "</style>\n",
       "<table border=\"1\" class=\"dataframe\">\n",
       "  <thead>\n",
       "    <tr style=\"text-align: right;\">\n",
       "      <th></th>\n",
       "      <th>Country</th>\n",
       "      <th>Confirmed</th>\n",
       "      <th>Recovered</th>\n",
       "    </tr>\n",
       "  </thead>\n",
       "  <tbody>\n",
       "    <tr>\n",
       "      <th>0</th>\n",
       "      <td>0</td>\n",
       "      <td>12.129391</td>\n",
       "      <td>9.944917</td>\n",
       "    </tr>\n",
       "    <tr>\n",
       "      <th>1</th>\n",
       "      <td>1</td>\n",
       "      <td>10.627503</td>\n",
       "      <td>10.153818</td>\n",
       "    </tr>\n",
       "    <tr>\n",
       "      <th>2</th>\n",
       "      <td>2</td>\n",
       "      <td>12.388690</td>\n",
       "      <td>11.583813</td>\n",
       "    </tr>\n",
       "    <tr>\n",
       "      <th>3</th>\n",
       "      <td>3</td>\n",
       "      <td>10.635230</td>\n",
       "      <td>9.940398</td>\n",
       "    </tr>\n",
       "    <tr>\n",
       "      <th>4</th>\n",
       "      <td>4</td>\n",
       "      <td>7.545918</td>\n",
       "      <td>6.228511</td>\n",
       "    </tr>\n",
       "    <tr>\n",
       "      <th>...</th>\n",
       "      <td>...</td>\n",
       "      <td>...</td>\n",
       "      <td>...</td>\n",
       "    </tr>\n",
       "    <tr>\n",
       "      <th>183</th>\n",
       "      <td>183</td>\n",
       "      <td>9.902087</td>\n",
       "      <td>9.082393</td>\n",
       "    </tr>\n",
       "    <tr>\n",
       "      <th>184</th>\n",
       "      <td>184</td>\n",
       "      <td>5.730100</td>\n",
       "      <td>5.231109</td>\n",
       "    </tr>\n",
       "    <tr>\n",
       "      <th>185</th>\n",
       "      <td>185</td>\n",
       "      <td>7.899895</td>\n",
       "      <td>4.532599</td>\n",
       "    </tr>\n",
       "    <tr>\n",
       "      <th>186</th>\n",
       "      <td>186</td>\n",
       "      <td>9.634693</td>\n",
       "      <td>8.572060</td>\n",
       "    </tr>\n",
       "    <tr>\n",
       "      <th>187</th>\n",
       "      <td>187</td>\n",
       "      <td>7.473637</td>\n",
       "      <td>5.924256</td>\n",
       "    </tr>\n",
       "  </tbody>\n",
       "</table>\n",
       "<p>186 rows × 3 columns</p>\n",
       "</div>"
      ],
      "text/plain": [
       "     Country  Confirmed  Recovered\n",
       "0          0  12.129391   9.944917\n",
       "1          1  10.627503  10.153818\n",
       "2          2  12.388690  11.583813\n",
       "3          3  10.635230   9.940398\n",
       "4          4   7.545918   6.228511\n",
       "..       ...        ...        ...\n",
       "183      183   9.902087   9.082393\n",
       "184      184   5.730100   5.231109\n",
       "185      185   7.899895   4.532599\n",
       "186      186   9.634693   8.572060\n",
       "187      187   7.473637   5.924256\n",
       "\n",
       "[186 rows x 3 columns]"
      ]
     },
     "execution_count": 49,
     "metadata": {},
     "output_type": "execute_result"
    }
   ],
   "source": [
    "x"
   ]
  },
  {
   "cell_type": "code",
   "execution_count": 51,
   "metadata": {},
   "outputs": [],
   "source": [
    "y=corona_new['Deaths']"
   ]
  },
  {
   "cell_type": "code",
   "execution_count": 52,
   "metadata": {},
   "outputs": [
    {
     "data": {
      "text/plain": [
       "0       8.448914\n",
       "1       7.396335\n",
       "2      10.053329\n",
       "3       7.705262\n",
       "4       4.882802\n",
       "         ...    \n",
       "183     4.736198\n",
       "184     0.693147\n",
       "185     6.133398\n",
       "186     5.375278\n",
       "187     5.298317\n",
       "Name: Deaths, Length: 186, dtype: float64"
      ]
     },
     "execution_count": 52,
     "metadata": {},
     "output_type": "execute_result"
    }
   ],
   "source": [
    "y"
   ]
  },
  {
   "cell_type": "code",
   "execution_count": 53,
   "metadata": {},
   "outputs": [],
   "source": [
    "from sklearn.preprocessing import StandardScaler"
   ]
  },
  {
   "cell_type": "code",
   "execution_count": 55,
   "metadata": {},
   "outputs": [],
   "source": [
    "sc=StandardScaler()"
   ]
  },
  {
   "cell_type": "code",
   "execution_count": 57,
   "metadata": {},
   "outputs": [],
   "source": [
    "x=sc.fit_transform(x)"
   ]
  },
  {
   "cell_type": "code",
   "execution_count": 58,
   "metadata": {},
   "outputs": [
    {
     "data": {
      "text/plain": [
       "array([[-1.71239909,  0.47409104,  0.08241143],\n",
       "       [-1.69406885, -0.10677394,  0.16152092],\n",
       "       [-1.67573861,  0.57437648,  0.7030513 ],\n",
       "       [-1.65740837, -0.10378551,  0.08069994],\n",
       "       [-1.63907813, -1.29859712, -1.32496957],\n",
       "       [-1.62074789, -1.43540686, -1.26627364],\n",
       "       [-1.60241765,  0.63737758,  0.5988174 ],\n",
       "       [-1.58408741,  0.39036763,  0.47845017],\n",
       "       [-1.56575718,  0.77766836,  1.03290019],\n",
       "       [-1.54742694,  1.0936461 ,  1.36403343],\n",
       "       [-1.5290967 ,  0.28561817,  0.51974759],\n",
       "       [-1.51076646, -0.99932521, -0.98203077],\n",
       "       [-1.49243622,  0.53122711,  0.66752686],\n",
       "       [-1.47410598,  0.92143659,  0.66355777],\n",
       "       [-1.45577574, -0.95823724, -0.788403  ],\n",
       "       [-1.4374455 ,  1.05673403,  0.9987829 ],\n",
       "       [-1.41911527,  1.47763277,  1.3467143 ],\n",
       "       [-1.40078503, -1.58702005, -1.35609131],\n",
       "       [-1.38245479, -0.80900858, -0.76132318],\n",
       "       [-1.36412455, -1.73721764, -1.65875182],\n",
       "       [-1.34579431,  0.2679149 , -0.1618156 ],\n",
       "       [-1.32746407,  0.20620598,  0.34570062],\n",
       "       [-1.30913383, -1.50400497, -1.43316686],\n",
       "       [-1.29080359,  1.86194251,  1.91962726],\n",
       "       [-1.27247335, -0.67769238, -0.34697508],\n",
       "       [-1.25414312,  0.16248938,  0.02090708],\n",
       "       [-1.23581288, -0.14978567,  0.13114657],\n",
       "       [-1.21748264, -0.78315951, -0.74774371],\n",
       "       [-1.1991524 , -1.62075058, -1.46638873],\n",
       "       [-1.18082216, -0.70572031, -0.81737386],\n",
       "       [-1.16249192, -0.73996646, -0.39628659],\n",
       "       [-1.14416168,  0.2827764 ,  0.38549215],\n",
       "       [-1.12583144,  1.53770375,  1.62035009],\n",
       "       [-1.1075012 , -0.76505248, -1.34569356],\n",
       "       [-1.08917097, -0.61287489, -0.64793772],\n",
       "       [-1.07084073,  1.23438387,  1.32802692],\n",
       "       [-1.05251049,  1.97044259,  2.27279633],\n",
       "       [-1.03418025,  0.83096944,  0.68704372],\n",
       "       [-1.01585001, -1.71500542, -1.82888684],\n",
       "       [-0.99751977, -0.56160826, -0.74806919],\n",
       "       [-0.97918953, -0.08684921, -0.39461833],\n",
       "       [-0.96085929, -0.09579378,  0.00365944],\n",
       "       [-0.94252906,  0.10578731,  0.22262264],\n",
       "       [-0.92419882,  0.28285857,  0.51058178],\n",
       "       [-0.90586858,  0.11594462,  0.33406684],\n",
       "       [-0.88753834, -0.06943853, -0.05839105],\n",
       "       [-0.8692081 ,  0.79713071,  0.86876699],\n",
       "       [-0.85087786,  0.87046913,  1.13421032],\n",
       "       [-0.83254762,  0.10817164,  0.3728139 ],\n",
       "       [-0.81421738,  0.00857822,  0.19632695],\n",
       "       [-0.79588714, -1.56281379, -1.26884107],\n",
       "       [-0.77755691,  0.78695797,  0.76147562],\n",
       "       [-0.75922667,  1.188294  ,  0.80258397],\n",
       "       [-0.74089643,  0.75559664,  0.66492184],\n",
       "       [-0.72256619, -0.16750526, -0.14412794],\n",
       "       [-0.70423595, -0.4099826 , -0.97101885],\n",
       "       [-0.68590571, -1.25717462, -1.04318512],\n",
       "       [-0.66757547,  0.21235479,  0.16945656],\n",
       "       [-0.64924523, -0.87513446, -0.84599496],\n",
       "       [-0.630915  , -0.6261816 , -0.60208623],\n",
       "       [-0.61258476, -1.5532243 , -1.34806783],\n",
       "       [-0.59425452,  0.61925925,  0.82699975],\n",
       "       [-0.57592428,  1.96495129,  1.89807183],\n",
       "       [-0.55759404, -0.21227376, -0.35808867],\n",
       "       [-0.5392638 , -1.62028093, -1.42822945],\n",
       "       [-0.52093356, -0.25390622, -0.11623602],\n",
       "       [-0.50260332,  1.97798232,  2.23315021],\n",
       "       [-0.48427308,  0.39684115,  0.22009267],\n",
       "       [-0.46594285,  0.39135154,  0.39156317],\n",
       "       [-0.44761261, -1.5298702 , -1.34490544],\n",
       "       [-0.42928237, -0.01856766, -0.49414061],\n",
       "       [-0.41095213,  0.14453595,  0.20388883],\n",
       "       [-0.39262189, -0.34457024, -1.11831134],\n",
       "       [-0.37429165, -0.95713717, -0.96375561],\n",
       "       [-0.35596141, -0.59253238, -1.30888362],\n",
       "       [-0.33763117, -1.73468567, -1.94352509],\n",
       "       [-0.31930093,  0.12950315, -0.29293045],\n",
       "       [-0.3009707 ,  0.36551149,  0.30290987],\n",
       "       [-0.28264046,  0.26643542,  0.58423651],\n",
       "       [-0.26431022,  1.50705246,  1.50977012],\n",
       "       [-0.24597998,  0.9268765 ,  0.71398334],\n",
       "       [-0.22764974,  1.80465982,  2.07062363],\n",
       "       [-0.2093195 ,  0.34332297,  0.58511417],\n",
       "       [-0.19098926,  1.12442856,  1.33655398],\n",
       "       [-0.17265902,  1.05083922,  1.21676933],\n",
       "       [-0.15432879,  2.0839073 ,  2.10534796],\n",
       "       [-0.13599855, -0.41492135, -0.5777497 ],\n",
       "       [-0.11766831,  0.98570011,  1.04919612],\n",
       "       [-0.09933807, -0.23794692,  0.02035106],\n",
       "       [-0.08100783,  0.50541714,  0.58277565],\n",
       "       [-0.06267759, -0.24679909, -0.24293233],\n",
       "       [-0.04434735,  1.06711838,  1.31236014],\n",
       "       [-0.02601711, -0.14144169,  0.0541515 ],\n",
       "       [-0.00768687,  0.74760015,  0.70746694],\n",
       "       [ 0.01064336, -0.09936412,  0.14152887],\n",
       "       [ 0.0289736 , -1.52727824, -1.42432535],\n",
       "       [ 0.04730384, -0.04406309,  0.02278297],\n",
       "       [ 0.06563408, -0.05286768, -0.13657115],\n",
       "       [ 0.10229456, -0.75999476, -0.66000108],\n",
       "       [ 0.1206248 , -1.12754033, -1.04247595],\n",
       "       [ 0.13895504, -0.90793007, -0.67702242],\n",
       "       [ 0.15728528,  0.13142211,  0.21585091],\n",
       "       [ 0.17561551,  0.53740411,  0.76829221],\n",
       "       [ 0.21227599, -0.62816174, -0.54494614],\n",
       "       [ 0.23060623, -1.25188774, -1.25804772],\n",
       "       [ 0.24893647,  0.71958813,  0.96877375],\n",
       "       [ 0.26726671, -0.26395132, -0.78515703],\n",
       "       [ 0.28559695, -0.27883034, -0.12351912],\n",
       "       [ 0.30392719, -0.27581419, -0.04812418],\n",
       "       [ 0.32225742, -1.23453831, -1.51371493],\n",
       "       [ 0.34058766, -0.41916629, -0.11669674],\n",
       "       [ 0.3589179 ,  1.24958669,  1.48608962],\n",
       "       [ 0.37724814,  0.52147625,  0.55021249],\n",
       "       [ 0.39557838, -0.88314613, -0.67594429],\n",
       "       [ 0.41390862, -1.0957964 , -1.21379189],\n",
       "       [ 0.43223886, -0.44270263, -0.21233369],\n",
       "       [ 0.4505691 ,  0.5749367 ,  0.63897825],\n",
       "       [ 0.46889934, -0.98056302, -1.02550374],\n",
       "       [ 0.48722957, -1.54156241, -1.36594941],\n",
       "       [ 0.50555981, -0.72796164, -0.96117457],\n",
       "       [ 0.52389005,  1.40855756, -0.13653876],\n",
       "       [ 0.54222029,  0.15611432,  0.46445682],\n",
       "       [ 0.56055053, -1.08248325, -0.80487457],\n",
       "       [ 0.57888077, -0.14458193,  0.09252106],\n",
       "       [ 0.59721101,  0.40329335,  0.29118134],\n",
       "       [ 0.61554125,  0.13150819,  0.30202594],\n",
       "       [ 0.63387149,  0.82892777,  0.33229617],\n",
       "       [ 0.65220172,  0.40280662,  0.33159122],\n",
       "       [ 0.67053196,  1.19271453,  1.11143711],\n",
       "       [ 0.6888622 ,  0.72446226,  0.73617745],\n",
       "       [ 0.70719244, -1.94054105, -1.70675194],\n",
       "       [ 0.72552268, -0.3283738 , -0.36024581],\n",
       "       [ 0.74385292,  1.48445173,  1.49985151],\n",
       "       [ 0.76218316,  0.84159685,  0.55379242],\n",
       "       [ 0.7805134 ,  0.9906577 ,  0.94190092],\n",
       "       [ 0.79884363,  1.23121484,  0.84791785],\n",
       "       [ 0.81717387,  1.08840592,  0.78174284],\n",
       "       [ 0.83550411,  0.95995975,  1.04446276],\n",
       "       [ 0.85383435,  1.90336768,  1.72294272],\n",
       "       [ 0.87216459, -0.57148814, -0.39098651],\n",
       "       [ 0.89049483, -1.63122985, -1.4483775 ],\n",
       "       [ 0.90882507, -1.5552026 , -1.20498465],\n",
       "       [ 0.92715531, -1.6346246 , -1.43416212],\n",
       "       [ 0.94548555, -0.2048698 , -0.38619764],\n",
       "       [ 0.96381578, -0.89196932, -1.71502974],\n",
       "       [ 0.98214602,  1.28954096,  1.34820698],\n",
       "       [ 1.00047626,  0.08942379,  0.2014955 ],\n",
       "       [ 1.0188065 ,  0.79444245,  0.71781629],\n",
       "       [ 1.03713674, -1.67085372, -1.49688132],\n",
       "       [ 1.05546698, -0.59180885, -0.61941846],\n",
       "       [ 1.07379722,  1.06684297,  0.94366169],\n",
       "       [ 1.09212746,  0.09694819,  0.24232362],\n",
       "       [ 1.1104577 ,  0.16418203,  0.0888776 ],\n",
       "       [ 1.12878793, -0.1505513 , -0.57146802],\n",
       "       [ 1.14711817,  0.81683185,  0.90336319],\n",
       "       [ 1.16544841, -0.7780737 , -2.05374579],\n",
       "       [ 1.18377865,  2.08372338,  2.21192642],\n",
       "       [ 1.20210889, -0.17314031, -0.0864938 ],\n",
       "       [ 1.22043913,  0.00435302, -0.39770396],\n",
       "       [ 1.23876937, -1.70728784, -1.44528611],\n",
       "       [ 1.25709961,  1.18095466,  0.77625524],\n",
       "       [ 1.27542984,  1.3343511 ,  1.59955292],\n",
       "       [ 1.29376008, -1.19915873, -1.05143742],\n",
       "       [ 1.31209032, -0.25872253, -0.03568867],\n",
       "       [ 1.33042056, -0.191418  , -0.27994043],\n",
       "       [ 1.3487508 , -0.43251437, -0.43023826],\n",
       "       [ 1.36708104,  0.44090642,  0.75819615],\n",
       "       [ 1.38541128, -1.54541077, -1.25183948],\n",
       "       [ 1.40374152, -0.69968053, -0.55802422],\n",
       "       [ 1.42207176, -0.78793099, -0.60031869],\n",
       "       [ 1.44040199, -0.01426306,  0.0927686 ],\n",
       "       [ 1.45873223,  1.81062922,  1.95083167],\n",
       "       [ 1.47706247,  2.69055466,  2.35542149],\n",
       "       [ 1.49539271, -0.84044122, -0.77071206],\n",
       "       [ 1.51372295,  0.90887604,  0.74156598],\n",
       "       [ 1.53205319,  1.00670152,  0.99926729],\n",
       "       [ 1.55038343,  1.98241513,  0.36384036],\n",
       "       [ 1.56871367, -0.15083487,  0.09942667],\n",
       "       [ 1.58704391,  0.25181081,  0.4940458 ],\n",
       "       [ 1.60537414, -0.32238487, -0.23625745],\n",
       "       [ 1.62370438, -0.41619203, -0.11694268],\n",
       "       [ 1.64203462, -0.38733361, -0.24422128],\n",
       "       [ 1.66036486, -2.00087671, -1.70267992],\n",
       "       [ 1.6786951 , -1.16169414, -1.96720118],\n",
       "       [ 1.69702534, -0.49074995, -0.43748146],\n",
       "       [ 1.71535558, -1.32655228, -1.4401892 ]])"
      ]
     },
     "execution_count": 58,
     "metadata": {},
     "output_type": "execute_result"
    }
   ],
   "source": [
    "x"
   ]
  },
  {
   "cell_type": "code",
   "execution_count": 61,
   "metadata": {},
   "outputs": [],
   "source": [
    "x=pd.DataFrame(data=x,columns=['Country','Confirmed','Recovered'])"
   ]
  },
  {
   "cell_type": "code",
   "execution_count": 62,
   "metadata": {},
   "outputs": [
    {
     "data": {
      "text/html": [
       "<div>\n",
       "<style scoped>\n",
       "    .dataframe tbody tr th:only-of-type {\n",
       "        vertical-align: middle;\n",
       "    }\n",
       "\n",
       "    .dataframe tbody tr th {\n",
       "        vertical-align: top;\n",
       "    }\n",
       "\n",
       "    .dataframe thead th {\n",
       "        text-align: right;\n",
       "    }\n",
       "</style>\n",
       "<table border=\"1\" class=\"dataframe\">\n",
       "  <thead>\n",
       "    <tr style=\"text-align: right;\">\n",
       "      <th></th>\n",
       "      <th>Country</th>\n",
       "      <th>Confirmed</th>\n",
       "      <th>Recovered</th>\n",
       "    </tr>\n",
       "  </thead>\n",
       "  <tbody>\n",
       "    <tr>\n",
       "      <th>0</th>\n",
       "      <td>-1.712399</td>\n",
       "      <td>0.474091</td>\n",
       "      <td>0.082411</td>\n",
       "    </tr>\n",
       "    <tr>\n",
       "      <th>1</th>\n",
       "      <td>-1.694069</td>\n",
       "      <td>-0.106774</td>\n",
       "      <td>0.161521</td>\n",
       "    </tr>\n",
       "    <tr>\n",
       "      <th>2</th>\n",
       "      <td>-1.675739</td>\n",
       "      <td>0.574376</td>\n",
       "      <td>0.703051</td>\n",
       "    </tr>\n",
       "    <tr>\n",
       "      <th>3</th>\n",
       "      <td>-1.657408</td>\n",
       "      <td>-0.103786</td>\n",
       "      <td>0.080700</td>\n",
       "    </tr>\n",
       "    <tr>\n",
       "      <th>4</th>\n",
       "      <td>-1.639078</td>\n",
       "      <td>-1.298597</td>\n",
       "      <td>-1.324970</td>\n",
       "    </tr>\n",
       "    <tr>\n",
       "      <th>...</th>\n",
       "      <td>...</td>\n",
       "      <td>...</td>\n",
       "      <td>...</td>\n",
       "    </tr>\n",
       "    <tr>\n",
       "      <th>181</th>\n",
       "      <td>1.642035</td>\n",
       "      <td>-0.387334</td>\n",
       "      <td>-0.244221</td>\n",
       "    </tr>\n",
       "    <tr>\n",
       "      <th>182</th>\n",
       "      <td>1.660365</td>\n",
       "      <td>-2.000877</td>\n",
       "      <td>-1.702680</td>\n",
       "    </tr>\n",
       "    <tr>\n",
       "      <th>183</th>\n",
       "      <td>1.678695</td>\n",
       "      <td>-1.161694</td>\n",
       "      <td>-1.967201</td>\n",
       "    </tr>\n",
       "    <tr>\n",
       "      <th>184</th>\n",
       "      <td>1.697025</td>\n",
       "      <td>-0.490750</td>\n",
       "      <td>-0.437481</td>\n",
       "    </tr>\n",
       "    <tr>\n",
       "      <th>185</th>\n",
       "      <td>1.715356</td>\n",
       "      <td>-1.326552</td>\n",
       "      <td>-1.440189</td>\n",
       "    </tr>\n",
       "  </tbody>\n",
       "</table>\n",
       "<p>186 rows × 3 columns</p>\n",
       "</div>"
      ],
      "text/plain": [
       "      Country  Confirmed  Recovered\n",
       "0   -1.712399   0.474091   0.082411\n",
       "1   -1.694069  -0.106774   0.161521\n",
       "2   -1.675739   0.574376   0.703051\n",
       "3   -1.657408  -0.103786   0.080700\n",
       "4   -1.639078  -1.298597  -1.324970\n",
       "..        ...        ...        ...\n",
       "181  1.642035  -0.387334  -0.244221\n",
       "182  1.660365  -2.000877  -1.702680\n",
       "183  1.678695  -1.161694  -1.967201\n",
       "184  1.697025  -0.490750  -0.437481\n",
       "185  1.715356  -1.326552  -1.440189\n",
       "\n",
       "[186 rows x 3 columns]"
      ]
     },
     "execution_count": 62,
     "metadata": {},
     "output_type": "execute_result"
    }
   ],
   "source": [
    "x"
   ]
  },
  {
   "cell_type": "code",
   "execution_count": 64,
   "metadata": {},
   "outputs": [],
   "source": [
    "from sklearn.model_selection import train_test_split\n",
    "from sklearn.linear_model import LinearRegression\n",
    "from sklearn.tree import DecisionTreeRegressor\n",
    "from sklearn.neighbors import KNeighborsRegressor\n",
    "from sklearn.ensemble import RandomForestRegressor,AdaBoostRegressor\n",
    "from sklearn.svm import SVR\n",
    "from sklearn.metrics import r2_score, mean_absolute_error, mean_squared_error"
   ]
  },
  {
   "cell_type": "code",
   "execution_count": 72,
   "metadata": {},
   "outputs": [
    {
     "name": "stdout",
     "output_type": "stream",
     "text": [
      "for the algorithm : LinearRegression()\n",
      "r2 score corresponding to random state 33 is:  0.746556368539143\n",
      "r2 score corresponding to random state 34 is:  0.7400493388248153\n",
      "r2 score corresponding to random state 35 is:  0.7062247839956506\n",
      "r2 score corresponding to random state 36 is:  0.6685796974458238\n",
      "r2 score corresponding to random state 37 is:  0.7267127961213264\n",
      "r2 score corresponding to random state 38 is:  0.7512680883771194\n",
      "r2 score corresponding to random state 39 is:  0.7070110501108449\n",
      "r2 score corresponding to random state 40 is:  0.8838013223512993\n",
      "r2 score corresponding to random state 41 is:  0.796338010285272\n",
      "r2 score corresponding to random state 42 is:  0.7500479723214358\n",
      "r2 score corresponding to random state 43 is:  0.8443788354461599\n",
      "r2 score corresponding to random state 44 is:  0.7706367589285209\n",
      "r2 score corresponding to random state 45 is:  0.6804021089389942\n",
      "r2 score corresponding to random state 46 is:  0.7514039536181477\n",
      "r2 score corresponding to random state 47 is:  0.865997147179304\n",
      "r2 score corresponding to random state 48 is:  0.7133522987064693\n",
      "r2 score corresponding to random state 49 is:  0.8236832797530516\n",
      "r2 score corresponding to random state 50 is:  0.7957607382736249\n",
      "r2 score corresponding to random state 51 is:  0.8444619249141816\n",
      "r2 score corresponding to random state 52 is:  0.7559580791422905\n",
      "r2 score corresponding to random state 53 is:  0.7583440572403779\n",
      "r2 score corresponding to random state 54 is:  0.7235320326056061\n",
      "r2 score corresponding to random state 55 is:  0.7847370066768629\n",
      "r2 score corresponding to random state 56 is:  0.8190601129672928\n",
      "r2 score corresponding to random state 57 is:  0.6091680940715674\n",
      "r2 score corresponding to random state 58 is:  0.8373061740261175\n",
      "r2 score corresponding to random state 59 is:  0.7737489241716007\n",
      "r2 score corresponding to random state 60 is:  0.7916561802541602\n",
      "r2 score corresponding to random state 61 is:  0.7027052587260909\n",
      "r2 score corresponding to random state 62 is:  0.807844737458229\n",
      "r2 score corresponding to random state 63 is:  0.8050880100915645\n",
      "r2 score corresponding to random state 64 is:  0.6221363847003323\n",
      "r2 score corresponding to random state 65 is:  0.7712290120143538\n",
      "r2 score corresponding to random state 66 is:  0.801443319572734\n",
      "r2 score corresponding to random state 67 is:  0.7860318071608852\n",
      "r2 score corresponding to random state 68 is:  0.7219075866127163\n",
      "r2 score corresponding to random state 69 is:  0.915722705066548\n",
      "r2 score corresponding to random state 70 is:  0.6561597980401366\n",
      "r2 score corresponding to random state 71 is:  0.7212560172519351\n",
      "r2 score corresponding to random state 72 is:  0.749325903030198\n",
      "r2 score corresponding to random state 73 is:  0.8050016050001051\n",
      "r2 score corresponding to random state 74 is:  0.5073000819401858\n",
      "r2 score corresponding to random state 75 is:  0.864139053985784\n",
      "r2 score corresponding to random state 76 is:  0.8117543685087651\n",
      "r2 score corresponding to random state 77 is:  0.7419200784624796\n",
      "r2 score corresponding to random state 78 is:  0.6203531319048634\n",
      "r2 score corresponding to random state 79 is:  0.8275869017583256\n",
      "r2 score corresponding to random state 80 is:  0.8077497849462977\n",
      "r2 score corresponding to random state 81 is:  0.8548089288153926\n",
      "r2 score corresponding to random state 82 is:  0.8009412764670796\n",
      "r2 score corresponding to random state 83 is:  0.6773154914754755\n",
      "r2 score corresponding to random state 84 is:  0.7906332630406068\n",
      "r2 score corresponding to random state 85 is:  0.8553344353392933\n",
      "r2 score corresponding to random state 86 is:  0.5047299209723993\n",
      "r2 score corresponding to random state 87 is:  0.7569287666505471\n",
      "r2 score corresponding to random state 88 is:  0.6537076750346137\n",
      "r2 score corresponding to random state 89 is:  0.8140251812826982\n",
      "r2 score corresponding to random state 90 is:  0.7639563085665846\n",
      "r2 score corresponding to random state 91 is:  0.6953338717123239\n",
      "r2 score corresponding to random state 92 is:  0.7400610243534194\n",
      "r2 score corresponding to random state 93 is:  0.8004310853036715\n",
      "r2 score corresponding to random state 94 is:  0.8506944756052558\n",
      "r2 score corresponding to random state 95 is:  0.7986637038183346\n",
      "r2 score corresponding to random state 96 is:  0.772000812300816\n",
      "r2 score corresponding to random state 97 is:  0.7031072529956782\n",
      "r2 score corresponding to random state 98 is:  0.8455163144658584\n",
      "r2 score corresponding to random state 99 is:  0.8869206785174295\n",
      "r2 score corresponding to random state 100 is:  0.863449451606526\n",
      "\n",
      "\n",
      "Max accuracy score corresponding to:  69 is:  0.915722705066548\n",
      "\n",
      "\n",
      "for the algorithm : DecisionTreeRegressor()\n",
      "r2 score corresponding to random state 33 is:  0.5827703576829393\n",
      "r2 score corresponding to random state 34 is:  0.6929078274388456\n",
      "r2 score corresponding to random state 35 is:  0.46112604570877325\n",
      "r2 score corresponding to random state 36 is:  0.5969566510765236\n",
      "r2 score corresponding to random state 37 is:  0.5769285609896568\n",
      "r2 score corresponding to random state 38 is:  0.5599287823398138\n",
      "r2 score corresponding to random state 39 is:  0.4544228384080936\n",
      "r2 score corresponding to random state 40 is:  0.8186971550110426\n",
      "r2 score corresponding to random state 41 is:  0.6360773083943491\n",
      "r2 score corresponding to random state 42 is:  0.7266523043523615\n",
      "r2 score corresponding to random state 43 is:  0.4937462448435168\n",
      "r2 score corresponding to random state 44 is:  0.5397375930705954\n",
      "r2 score corresponding to random state 45 is:  0.5298790374092179\n",
      "r2 score corresponding to random state 46 is:  0.4499928730992042\n",
      "r2 score corresponding to random state 47 is:  0.7057566660248857\n",
      "r2 score corresponding to random state 48 is:  0.4031133464078209\n",
      "r2 score corresponding to random state 49 is:  0.6641151640784222\n",
      "r2 score corresponding to random state 50 is:  0.642944454153205\n",
      "r2 score corresponding to random state 51 is:  0.644474298510066\n",
      "r2 score corresponding to random state 52 is:  0.72005061408291\n",
      "r2 score corresponding to random state 53 is:  0.14592831002758588\n",
      "r2 score corresponding to random state 54 is:  0.6321265833408438\n",
      "r2 score corresponding to random state 55 is:  0.5001911515167198\n",
      "r2 score corresponding to random state 56 is:  0.6402520891014278\n",
      "r2 score corresponding to random state 57 is:  0.4989095335132032\n",
      "r2 score corresponding to random state 58 is:  0.7674848960511154\n",
      "r2 score corresponding to random state 59 is:  0.6495673847677386\n",
      "r2 score corresponding to random state 60 is:  0.7209930395152576\n",
      "r2 score corresponding to random state 61 is:  0.5906576644472104\n",
      "r2 score corresponding to random state 62 is:  0.5042113103913954\n",
      "r2 score corresponding to random state 63 is:  0.670930440386335\n",
      "r2 score corresponding to random state 64 is:  0.5982648645502935\n",
      "r2 score corresponding to random state 65 is:  0.6353515972029773\n",
      "r2 score corresponding to random state 66 is:  0.7904641648713456\n",
      "r2 score corresponding to random state 67 is:  0.7263710146957454\n",
      "r2 score corresponding to random state 68 is:  0.37100969101421044\n",
      "r2 score corresponding to random state 69 is:  0.767582377715728\n",
      "r2 score corresponding to random state 70 is:  0.6094126330064547\n",
      "r2 score corresponding to random state 71 is:  0.34178592490165627\n",
      "r2 score corresponding to random state 72 is:  0.6187059124334633\n",
      "r2 score corresponding to random state 73 is:  0.6444344342129805\n",
      "r2 score corresponding to random state 74 is:  0.4092858423746101\n",
      "r2 score corresponding to random state 75 is:  0.8107006837482775\n",
      "r2 score corresponding to random state 76 is:  0.6419481653629797\n",
      "r2 score corresponding to random state 77 is:  0.6871672555807391\n",
      "r2 score corresponding to random state 78 is:  0.5421096816651992\n",
      "r2 score corresponding to random state 79 is:  0.7002880807981079\n",
      "r2 score corresponding to random state 80 is:  0.7019945294217165\n",
      "r2 score corresponding to random state 81 is:  0.754927005700855\n",
      "r2 score corresponding to random state 82 is:  0.7865270905849024\n",
      "r2 score corresponding to random state 83 is:  0.6560394871062463\n",
      "r2 score corresponding to random state 84 is:  0.6346008417609121\n",
      "r2 score corresponding to random state 85 is:  0.7773511396302942\n",
      "r2 score corresponding to random state 86 is:  0.2802638310531591\n",
      "r2 score corresponding to random state 87 is:  0.6138238835005461\n",
      "r2 score corresponding to random state 88 is:  0.23647168187537537\n",
      "r2 score corresponding to random state 89 is:  0.7492168180633004\n",
      "r2 score corresponding to random state 90 is:  0.5805386192424569\n",
      "r2 score corresponding to random state 91 is:  0.6127194499898564\n",
      "r2 score corresponding to random state 92 is:  0.630032896899365\n",
      "r2 score corresponding to random state 93 is:  0.6395860341773052\n",
      "r2 score corresponding to random state 94 is:  0.7487751330616192\n",
      "r2 score corresponding to random state 95 is:  0.7078238581432882\n",
      "r2 score corresponding to random state 96 is:  0.7522696637785409\n",
      "r2 score corresponding to random state 97 is:  0.5453744430769614\n",
      "r2 score corresponding to random state 98 is:  0.6687334446332172\n",
      "r2 score corresponding to random state 99 is:  0.6850324447919393\n",
      "r2 score corresponding to random state 100 is:  0.7355369655276192\n",
      "\n",
      "\n",
      "Max accuracy score corresponding to:  40 is:  0.8186971550110426\n",
      "\n",
      "\n",
      "for the algorithm : KNeighborsRegressor()\n",
      "r2 score corresponding to random state 33 is:  0.6478174869186641\n",
      "r2 score corresponding to random state 34 is:  0.6332828555335419\n",
      "r2 score corresponding to random state 35 is:  0.5070127805477543\n",
      "r2 score corresponding to random state 36 is:  0.5180358592364892\n",
      "r2 score corresponding to random state 37 is:  0.6762434784572375\n",
      "r2 score corresponding to random state 38 is:  0.5824865517048948\n",
      "r2 score corresponding to random state 39 is:  0.6301906004062265\n",
      "r2 score corresponding to random state 40 is:  0.6427705766197915\n",
      "r2 score corresponding to random state 41 is:  0.5854232807132214\n",
      "r2 score corresponding to random state 42 is:  0.5177141053842298\n",
      "r2 score corresponding to random state 43 is:  0.6873770412727753\n",
      "r2 score corresponding to random state 44 is:  0.5728741782133575\n",
      "r2 score corresponding to random state 45 is:  0.31858209177736607\n",
      "r2 score corresponding to random state 46 is:  0.6843180719107324\n",
      "r2 score corresponding to random state 47 is:  0.7102182291039107\n",
      "r2 score corresponding to random state 48 is:  0.5338798018108555\n",
      "r2 score corresponding to random state 49 is:  0.7829918378301262\n",
      "r2 score corresponding to random state 50 is:  0.702209467631385\n",
      "r2 score corresponding to random state 51 is:  0.5480446357413895\n",
      "r2 score corresponding to random state 52 is:  0.5407146002843384\n",
      "r2 score corresponding to random state 53 is:  0.46603757948933755\n",
      "r2 score corresponding to random state 54 is:  0.547082735039559\n",
      "r2 score corresponding to random state 55 is:  0.7062824272064248\n",
      "r2 score corresponding to random state 56 is:  0.6664512037188453\n",
      "r2 score corresponding to random state 57 is:  0.5071405406976318\n",
      "r2 score corresponding to random state 58 is:  0.7629284613050787\n",
      "r2 score corresponding to random state 59 is:  0.47326344774931806\n",
      "r2 score corresponding to random state 60 is:  0.7817738179081845\n",
      "r2 score corresponding to random state 61 is:  0.425097203624633\n",
      "r2 score corresponding to random state 62 is:  0.7380080408869627\n",
      "r2 score corresponding to random state 63 is:  0.5674922488806202\n",
      "r2 score corresponding to random state 64 is:  0.3895598411879334\n",
      "r2 score corresponding to random state 65 is:  0.7414757360537949\n",
      "r2 score corresponding to random state 66 is:  0.7201815747455947\n",
      "r2 score corresponding to random state 67 is:  0.669781771692991\n",
      "r2 score corresponding to random state 68 is:  0.679621922102521\n",
      "r2 score corresponding to random state 69 is:  0.7790097057798326\n",
      "r2 score corresponding to random state 70 is:  0.6586186223251301\n",
      "r2 score corresponding to random state 71 is:  0.6337351663316393\n",
      "r2 score corresponding to random state 72 is:  0.6946763648499937\n",
      "r2 score corresponding to random state 73 is:  0.6961955107492834\n",
      "r2 score corresponding to random state 74 is:  0.4767551075825336\n",
      "r2 score corresponding to random state 75 is:  0.8156652570468089\n",
      "r2 score corresponding to random state 76 is:  0.7484735795343724\n",
      "r2 score corresponding to random state 77 is:  0.6737026576248968\n",
      "r2 score corresponding to random state 78 is:  0.5347228111659323\n",
      "r2 score corresponding to random state 79 is:  0.5644040853883419\n",
      "r2 score corresponding to random state 80 is:  0.6857422052816098\n",
      "r2 score corresponding to random state 81 is:  0.6316841754832744\n",
      "r2 score corresponding to random state 82 is:  0.764120889214449\n",
      "r2 score corresponding to random state 83 is:  0.5912652686030178\n",
      "r2 score corresponding to random state 84 is:  0.7417044255146957\n",
      "r2 score corresponding to random state 85 is:  0.8236774654667207\n",
      "r2 score corresponding to random state 86 is:  0.23094919293112848\n",
      "r2 score corresponding to random state 87 is:  0.696727129040875\n",
      "r2 score corresponding to random state 88 is:  0.46611545199755844\n",
      "r2 score corresponding to random state 89 is:  0.6771778928305382\n",
      "r2 score corresponding to random state 90 is:  0.6219012890048509\n",
      "r2 score corresponding to random state 91 is:  0.5511571593430926\n",
      "r2 score corresponding to random state 92 is:  0.6166130571645227\n",
      "r2 score corresponding to random state 93 is:  0.7016737622318316\n",
      "r2 score corresponding to random state 94 is:  0.6677956828326193\n",
      "r2 score corresponding to random state 95 is:  0.6055729106528531\n",
      "r2 score corresponding to random state 96 is:  0.7236761762156321\n",
      "r2 score corresponding to random state 97 is:  0.4517049429703016\n",
      "r2 score corresponding to random state 98 is:  0.7190113758129275\n",
      "r2 score corresponding to random state 99 is:  0.8076908012346691\n",
      "r2 score corresponding to random state 100 is:  0.7288851291669971\n",
      "\n",
      "\n",
      "Max accuracy score corresponding to:  85 is:  0.8236774654667207\n",
      "\n",
      "\n",
      "for the algorithm : RandomForestRegressor()\n",
      "r2 score corresponding to random state 33 is:  0.7489972950672339\n",
      "r2 score corresponding to random state 34 is:  0.7412597964463778\n",
      "r2 score corresponding to random state 35 is:  0.5881124627678209\n",
      "r2 score corresponding to random state 36 is:  0.6130121497302945\n",
      "r2 score corresponding to random state 37 is:  0.7234320211984469\n",
      "r2 score corresponding to random state 38 is:  0.7077116784685087\n",
      "r2 score corresponding to random state 39 is:  0.6913654823703667\n",
      "r2 score corresponding to random state 40 is:  0.87888335311034\n",
      "r2 score corresponding to random state 41 is:  0.7189588563827037\n",
      "r2 score corresponding to random state 42 is:  0.7921745844218675\n",
      "r2 score corresponding to random state 43 is:  0.701794836075637\n",
      "r2 score corresponding to random state 44 is:  0.6620767633788434\n",
      "r2 score corresponding to random state 45 is:  0.6480891341611136\n",
      "r2 score corresponding to random state 46 is:  0.6972221298184614\n",
      "r2 score corresponding to random state 47 is:  0.7953165175839056\n",
      "r2 score corresponding to random state 48 is:  0.6507808098785721\n",
      "r2 score corresponding to random state 49 is:  0.7795649699990027\n",
      "r2 score corresponding to random state 50 is:  0.7664827927983465\n",
      "r2 score corresponding to random state 51 is:  0.7551386992058385\n",
      "r2 score corresponding to random state 52 is:  0.6668711145796393\n",
      "r2 score corresponding to random state 53 is:  0.5985884042553555\n",
      "r2 score corresponding to random state 54 is:  0.7241759277063355\n",
      "r2 score corresponding to random state 55 is:  0.734867452680243\n",
      "r2 score corresponding to random state 56 is:  0.765095888508811\n",
      "r2 score corresponding to random state 57 is:  0.6144632613497469\n",
      "r2 score corresponding to random state 58 is:  0.8274695199843034\n",
      "r2 score corresponding to random state 59 is:  0.7320859339938385\n",
      "r2 score corresponding to random state 60 is:  0.7711150304648617\n",
      "r2 score corresponding to random state 61 is:  0.6467821398703869\n",
      "r2 score corresponding to random state 62 is:  0.7836409050697732\n",
      "r2 score corresponding to random state 63 is:  0.782747291371261\n",
      "r2 score corresponding to random state 64 is:  0.5906492794277991\n",
      "r2 score corresponding to random state 65 is:  0.7661053343842472\n",
      "r2 score corresponding to random state 66 is:  0.8277846020300863\n",
      "r2 score corresponding to random state 67 is:  0.7950189636030285\n",
      "r2 score corresponding to random state 68 is:  0.6159142569764872\n",
      "r2 score corresponding to random state 69 is:  0.9017252867213184\n",
      "r2 score corresponding to random state 70 is:  0.715893380688722\n",
      "r2 score corresponding to random state 71 is:  0.6369985177401627\n",
      "r2 score corresponding to random state 72 is:  0.7334188364332093\n",
      "r2 score corresponding to random state 73 is:  0.7939798262431947\n",
      "r2 score corresponding to random state 74 is:  0.5385325526734914\n",
      "r2 score corresponding to random state 75 is:  0.8609470212889903\n",
      "r2 score corresponding to random state 76 is:  0.7774574128824787\n",
      "r2 score corresponding to random state 77 is:  0.7353229766275265\n",
      "r2 score corresponding to random state 78 is:  0.672008020325555\n",
      "r2 score corresponding to random state 79 is:  0.7258534454565291\n",
      "r2 score corresponding to random state 80 is:  0.8006516325941682\n",
      "r2 score corresponding to random state 81 is:  0.7618776270285965\n",
      "r2 score corresponding to random state 82 is:  0.8639752135651226\n",
      "r2 score corresponding to random state 83 is:  0.7034604513757678\n",
      "r2 score corresponding to random state 84 is:  0.8088979317626481\n",
      "r2 score corresponding to random state 85 is:  0.8661876511874438\n",
      "r2 score corresponding to random state 86 is:  0.5462729230918282\n",
      "r2 score corresponding to random state 87 is:  0.7643664171984095\n",
      "r2 score corresponding to random state 88 is:  0.6727393994847487\n",
      "r2 score corresponding to random state 89 is:  0.7994420289557349\n",
      "r2 score corresponding to random state 90 is:  0.7651836072903282\n",
      "r2 score corresponding to random state 91 is:  0.6052402226760056\n",
      "r2 score corresponding to random state 92 is:  0.7432418451969371\n",
      "r2 score corresponding to random state 93 is:  0.7610404281853071\n",
      "r2 score corresponding to random state 94 is:  0.7767680378868693\n",
      "r2 score corresponding to random state 95 is:  0.7650716317370112\n",
      "r2 score corresponding to random state 96 is:  0.8055137871270179\n",
      "r2 score corresponding to random state 97 is:  0.5425569168749094\n",
      "r2 score corresponding to random state 98 is:  0.8280467766163331\n",
      "r2 score corresponding to random state 99 is:  0.8667144730060903\n",
      "r2 score corresponding to random state 100 is:  0.8129829468079004\n",
      "\n",
      "\n",
      "Max accuracy score corresponding to:  69 is:  0.9017252867213184\n",
      "\n",
      "\n",
      "for the algorithm : AdaBoostRegressor()\n",
      "r2 score corresponding to random state 33 is:  0.67556524202286\n",
      "r2 score corresponding to random state 34 is:  0.7396865947122555\n",
      "r2 score corresponding to random state 35 is:  0.599841333634463\n",
      "r2 score corresponding to random state 36 is:  0.5919900138855986\n",
      "r2 score corresponding to random state 37 is:  0.6392657954489692\n",
      "r2 score corresponding to random state 38 is:  0.647578990638116\n",
      "r2 score corresponding to random state 39 is:  0.6865422130243319\n",
      "r2 score corresponding to random state 40 is:  0.8573614393432951\n",
      "r2 score corresponding to random state 41 is:  0.7354033183230658\n",
      "r2 score corresponding to random state 42 is:  0.6814681299489098\n",
      "r2 score corresponding to random state 43 is:  0.7365890263801692\n",
      "r2 score corresponding to random state 44 is:  0.6682920680939992\n",
      "r2 score corresponding to random state 45 is:  0.6876042490084076\n",
      "r2 score corresponding to random state 46 is:  0.5762426569780787\n",
      "r2 score corresponding to random state 47 is:  0.7773507187706599\n",
      "r2 score corresponding to random state 48 is:  0.6526341591077087\n",
      "r2 score corresponding to random state 49 is:  0.7591119841030591\n",
      "r2 score corresponding to random state 50 is:  0.7299193628306051\n",
      "r2 score corresponding to random state 51 is:  0.8010753040619314\n",
      "r2 score corresponding to random state 52 is:  0.6940031336003005\n",
      "r2 score corresponding to random state 53 is:  0.6978624084836739\n",
      "r2 score corresponding to random state 54 is:  0.6122653946453879\n",
      "r2 score corresponding to random state 55 is:  0.6599667935239135\n",
      "r2 score corresponding to random state 56 is:  0.7477620121216295\n",
      "r2 score corresponding to random state 57 is:  0.6377932854675913\n",
      "r2 score corresponding to random state 58 is:  0.764983312023878\n",
      "r2 score corresponding to random state 59 is:  0.7296073670649157\n",
      "r2 score corresponding to random state 60 is:  0.6994565970484863\n",
      "r2 score corresponding to random state 61 is:  0.5119018138174352\n",
      "r2 score corresponding to random state 62 is:  0.7505199419596056\n",
      "r2 score corresponding to random state 63 is:  0.722615610345429\n",
      "r2 score corresponding to random state 64 is:  0.47675135262017065\n",
      "r2 score corresponding to random state 65 is:  0.6619911443424674\n",
      "r2 score corresponding to random state 66 is:  0.7002942285956473\n",
      "r2 score corresponding to random state 67 is:  0.7418147078238891\n",
      "r2 score corresponding to random state 68 is:  0.6572306945928985\n",
      "r2 score corresponding to random state 69 is:  0.8241286941995201\n",
      "r2 score corresponding to random state 70 is:  0.7047556609652907\n",
      "r2 score corresponding to random state 71 is:  0.501510252114071\n",
      "r2 score corresponding to random state 72 is:  0.5553310331315549\n",
      "r2 score corresponding to random state 73 is:  0.7340900088186554\n",
      "r2 score corresponding to random state 74 is:  0.45591386919374155\n",
      "r2 score corresponding to random state 75 is:  0.7874241171594812\n",
      "r2 score corresponding to random state 76 is:  0.7486772649147047\n",
      "r2 score corresponding to random state 77 is:  0.6975754974704185\n",
      "r2 score corresponding to random state 78 is:  0.4983548361898754\n",
      "r2 score corresponding to random state 79 is:  0.7166962780489663\n",
      "r2 score corresponding to random state 80 is:  0.7395521208947466\n",
      "r2 score corresponding to random state 81 is:  0.742682499029912\n",
      "r2 score corresponding to random state 82 is:  0.8221308194178051\n",
      "r2 score corresponding to random state 83 is:  0.6038851968960228\n",
      "r2 score corresponding to random state 84 is:  0.7845892362998574\n",
      "r2 score corresponding to random state 85 is:  0.7881555769046638\n",
      "r2 score corresponding to random state 86 is:  0.47028530638878063\n",
      "r2 score corresponding to random state 87 is:  0.7320053669328068\n",
      "r2 score corresponding to random state 88 is:  0.5786673220742893\n",
      "r2 score corresponding to random state 89 is:  0.6766861253630339\n",
      "r2 score corresponding to random state 90 is:  0.7456993247722687\n",
      "r2 score corresponding to random state 91 is:  0.580946158469179\n",
      "r2 score corresponding to random state 92 is:  0.6716515382884322\n",
      "r2 score corresponding to random state 93 is:  0.6913603759347811\n",
      "r2 score corresponding to random state 94 is:  0.7090674133260342\n",
      "r2 score corresponding to random state 95 is:  0.6887751337191309\n",
      "r2 score corresponding to random state 96 is:  0.7671082077649123\n",
      "r2 score corresponding to random state 97 is:  0.5531877705151036\n",
      "r2 score corresponding to random state 98 is:  0.7713198070722566\n",
      "r2 score corresponding to random state 99 is:  0.8501066266036176\n",
      "r2 score corresponding to random state 100 is:  0.7589927677916262\n",
      "\n",
      "\n",
      "Max accuracy score corresponding to:  40 is:  0.8573614393432951\n",
      "\n",
      "\n",
      "for the algorithm : SVR()\n",
      "r2 score corresponding to random state 33 is:  0.7781431594568424\n",
      "r2 score corresponding to random state 34 is:  0.5841087996130712\n",
      "r2 score corresponding to random state 35 is:  0.3678200877802543\n",
      "r2 score corresponding to random state 36 is:  0.34424308792820046\n",
      "r2 score corresponding to random state 37 is:  0.7757188484472403\n",
      "r2 score corresponding to random state 38 is:  0.4851419893074278\n",
      "r2 score corresponding to random state 39 is:  0.5944162367939443\n",
      "r2 score corresponding to random state 40 is:  0.6680151620701434\n",
      "r2 score corresponding to random state 41 is:  0.3071036671592512\n",
      "r2 score corresponding to random state 42 is:  0.3017525548462414\n",
      "r2 score corresponding to random state 43 is:  0.5129012162518136\n",
      "r2 score corresponding to random state 44 is:  0.5084450025919984\n",
      "r2 score corresponding to random state 45 is:  0.31605190430122\n",
      "r2 score corresponding to random state 46 is:  0.680555946584336\n",
      "r2 score corresponding to random state 47 is:  0.5702127999764255\n",
      "r2 score corresponding to random state 48 is:  0.34322867630361353\n",
      "r2 score corresponding to random state 49 is:  0.5388652826014003\n",
      "r2 score corresponding to random state 50 is:  0.42863135720525514\n",
      "r2 score corresponding to random state 51 is:  0.10254667039488718\n",
      "r2 score corresponding to random state 52 is:  0.4236314419295796\n",
      "r2 score corresponding to random state 53 is:  0.3568449130414807\n",
      "r2 score corresponding to random state 54 is:  0.40491003820480553\n",
      "r2 score corresponding to random state 55 is:  0.6461977634221543\n",
      "r2 score corresponding to random state 56 is:  0.7495200944638082\n",
      "r2 score corresponding to random state 57 is:  0.46824098289086247\n",
      "r2 score corresponding to random state 58 is:  0.4788753750771213\n",
      "r2 score corresponding to random state 59 is:  0.4154841458112104\n",
      "r2 score corresponding to random state 60 is:  0.6701294041582817\n",
      "r2 score corresponding to random state 61 is:  0.38072721677312804\n",
      "r2 score corresponding to random state 62 is:  0.6767047644359707\n",
      "r2 score corresponding to random state 63 is:  0.20369453431251283\n",
      "r2 score corresponding to random state 64 is:  0.04101084784043307\n",
      "r2 score corresponding to random state 65 is:  0.5842534527187684\n",
      "r2 score corresponding to random state 66 is:  0.5711104508965187\n",
      "r2 score corresponding to random state 67 is:  0.5515126280680183\n",
      "r2 score corresponding to random state 68 is:  0.431329387002949\n",
      "r2 score corresponding to random state 69 is:  0.5829482272255528\n",
      "r2 score corresponding to random state 70 is:  0.5714741136885719\n",
      "r2 score corresponding to random state 71 is:  0.5983167188101702\n",
      "r2 score corresponding to random state 72 is:  0.4319237874549259\n",
      "r2 score corresponding to random state 73 is:  0.6293940177992661\n",
      "r2 score corresponding to random state 74 is:  0.22163603961504408\n",
      "r2 score corresponding to random state 75 is:  0.6219214401092957\n",
      "r2 score corresponding to random state 76 is:  0.6975571544862498\n",
      "r2 score corresponding to random state 77 is:  0.41817855423310735\n",
      "r2 score corresponding to random state 78 is:  0.08856212400651065\n",
      "r2 score corresponding to random state 79 is:  0.5509242438205222\n",
      "r2 score corresponding to random state 80 is:  0.37310877939920273\n",
      "r2 score corresponding to random state 81 is:  0.3352099516413777\n",
      "r2 score corresponding to random state 82 is:  0.6304853155812282\n",
      "r2 score corresponding to random state 83 is:  0.4452728984859391\n",
      "r2 score corresponding to random state 84 is:  0.6251001391943318\n",
      "r2 score corresponding to random state 85 is:  0.6510092312427465\n",
      "r2 score corresponding to random state 86 is:  0.26129664037987366\n",
      "r2 score corresponding to random state 87 is:  0.7367676223478126\n",
      "r2 score corresponding to random state 88 is:  0.28721488366436354\n",
      "r2 score corresponding to random state 89 is:  0.5948119187563123\n",
      "r2 score corresponding to random state 90 is:  0.2420174312537623\n",
      "r2 score corresponding to random state 91 is:  0.5860845515513735\n",
      "r2 score corresponding to random state 92 is:  0.4402676198113389\n",
      "r2 score corresponding to random state 93 is:  0.4505754182199694\n",
      "r2 score corresponding to random state 94 is:  0.6593079307149469\n",
      "r2 score corresponding to random state 95 is:  0.18323346631674875\n",
      "r2 score corresponding to random state 96 is:  0.5748745889708163\n",
      "r2 score corresponding to random state 97 is:  0.385063277205426\n",
      "r2 score corresponding to random state 98 is:  0.6728002196423258\n",
      "r2 score corresponding to random state 99 is:  0.38158746905057783\n",
      "r2 score corresponding to random state 100 is:  0.37738245087296296\n",
      "\n",
      "\n",
      "Max accuracy score corresponding to:  33 is:  0.7781431594568424\n",
      "\n",
      "\n"
     ]
    }
   ],
   "source": [
    "a=[LinearRegression(),DecisionTreeRegressor(),KNeighborsRegressor(),RandomForestRegressor(),AdaBoostRegressor(),SVR()]\n",
    "for j in a:\n",
    "    max_r_score=0\n",
    "    print('for the algorithm :',j)\n",
    "    for i in range(33,101):\n",
    "        x_train,x_test,y_train,y_test=train_test_split(x,y,random_state=i,test_size=.20)\n",
    "        j.fit(x_train,y_train)\n",
    "        pred=j.predict(x_test)\n",
    "        score=j.score(x_train,y_train)\n",
    "        r2_scr=r2_score(pred,y_test)\n",
    "        print('r2 score corresponding to random state',i,'is: ',r2_scr)\n",
    "        if r2_scr>max_r_score:\n",
    "            max_r_score=r2_scr\n",
    "            final=i\n",
    "            \n",
    "    print('\\n')\n",
    "    print('Max accuracy score corresponding to: ', final,'is: ',max_r_score)\n",
    "    print('\\n')\n",
    "        "
   ]
  },
  {
   "cell_type": "code",
   "execution_count": 74,
   "metadata": {},
   "outputs": [],
   "source": [
    "rf=RandomForestRegressor()"
   ]
  },
  {
   "cell_type": "code",
   "execution_count": 75,
   "metadata": {},
   "outputs": [
    {
     "name": "stdout",
     "output_type": "stream",
     "text": [
      "0.7327424086053298\n",
      "RandomForestRegressor()\n",
      "{'criterion': 'mse'}\n"
     ]
    }
   ],
   "source": [
    "from sklearn.model_selection import GridSearchCV\n",
    "from sklearn.metrics import mean_squared_error\n",
    "param={\n",
    "    'criterion':['mse','mae']\n",
    "}\n",
    "x_train,x_test,y_train,y_test=train_test_split(x,y,random_state=69,test_size=.20)\n",
    "cv = GridSearchCV(rf, param_grid=param)\n",
    "cv.fit(x_train, y_train)\n",
    "print(cv.best_score_)\n",
    "print(cv.best_estimator_)\n",
    "print(cv.best_params_)"
   ]
  },
  {
   "cell_type": "code",
   "execution_count": 80,
   "metadata": {},
   "outputs": [
    {
     "name": "stdout",
     "output_type": "stream",
     "text": [
      "Accuracy:  0.961976599621174\n",
      "R2 score:  0.8973440281883152\n",
      "Mean squared error: 1.1678878060153395\n"
     ]
    }
   ],
   "source": [
    "#working on the best model\n",
    "rf=RandomForestRegressor(criterion='mse')\n",
    "rf.fit(x_train,y_train)\n",
    "pred=rf.predict(x_test)\n",
    "print(\"Accuracy: \",rf.score(x_train,y_train))\n",
    "print('R2 score: ',r2_score(pred,y_test))\n",
    "print('Mean squared error:',mean_squared_error(pred,y_test))"
   ]
  },
  {
   "cell_type": "code",
   "execution_count": 81,
   "metadata": {},
   "outputs": [
    {
     "data": {
      "text/plain": [
       "['corona_rf.obj']"
      ]
     },
     "execution_count": 81,
     "metadata": {},
     "output_type": "execute_result"
    }
   ],
   "source": [
    "#Saving the best model\n",
    "import joblib\n",
    "joblib.dump(rf,'corona_rf.obj')"
   ]
  },
  {
   "cell_type": "code",
   "execution_count": null,
   "metadata": {},
   "outputs": [],
   "source": []
  }
 ],
 "metadata": {
  "kernelspec": {
   "display_name": "Python 3",
   "language": "python",
   "name": "python3"
  },
  "language_info": {
   "codemirror_mode": {
    "name": "ipython",
    "version": 3
   },
   "file_extension": ".py",
   "mimetype": "text/x-python",
   "name": "python",
   "nbconvert_exporter": "python",
   "pygments_lexer": "ipython3",
   "version": "3.8.3"
  }
 },
 "nbformat": 4,
 "nbformat_minor": 4
}
